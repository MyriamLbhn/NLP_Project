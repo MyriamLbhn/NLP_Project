{
 "cells": [
  {
   "cell_type": "markdown",
   "metadata": {},
   "source": [
    "# Stocker les données avec Elastic Search"
   ]
  },
  {
   "attachments": {},
   "cell_type": "markdown",
   "metadata": {},
   "source": [
    "## 1. Mise en place"
   ]
  },
  {
   "attachments": {},
   "cell_type": "markdown",
   "metadata": {},
   "source": [
    "Après avoir installé l'extension Docker dans VS Code et s'être connecté, on suit les étapes suivantes\n",
    "\n",
    "a) Démarrer un container à partir de l’image docker.elastic.co/elasticsearch/elasticsearch:7.17.10  \n",
    "- en mode détaché -d\n",
    "- monter le volume /usr/share/elasticsearch/data en local\n",
    "- utiliser le mapping de port -p 9200:9200\n",
    "- utiliser la variable -e \"discovery.type=single-node\"\n",
    "- le nom du container sera --name elastic\n",
    "\n",
    "commande : \n",
    "`docker run -d -v /chemin/absolu/vers/repertoire/travail:/usr/share/elasticsearch/data -p 9200:9200 -e \"discovery.type=single-node\" --name elastic docker.elastic.co/elasticsearch/elasticsearch:7.17.10`\n",
    "\n",
    "b) Visualiser les logs du container  \n",
    "\n",
    "commande :   \n",
    "`docker logs elastic`\n",
    " \n",
    "c) appeler la route racine “/”   \n",
    "\n",
    "commande :   \n",
    "`curl http://localhost:9200/`"
   ]
  },
  {
   "cell_type": "markdown",
   "metadata": {},
   "source": []
  }
 ],
 "metadata": {
  "language_info": {
   "name": "python"
  },
  "orig_nbformat": 4
 },
 "nbformat": 4,
 "nbformat_minor": 2
}
