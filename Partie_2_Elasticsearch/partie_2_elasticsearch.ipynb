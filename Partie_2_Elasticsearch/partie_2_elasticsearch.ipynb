{
 "cells": [
  {
   "cell_type": "markdown",
   "metadata": {},
   "source": [
    "# Stocker les données avec Elastic Search"
   ]
  },
  {
   "attachments": {},
   "cell_type": "markdown",
   "metadata": {},
   "source": [
    "## Imports"
   ]
  },
  {
   "cell_type": "code",
   "execution_count": 1,
   "metadata": {},
   "outputs": [],
   "source": [
    "import pandas as pd\t\n",
    "import numpy as np\n",
    "import warnings\n",
    "warnings.filterwarnings(\"ignore\")\n",
    "from faker import Faker\n",
    "from elasticsearch import Elasticsearch\n",
    "import requests\n",
    "import pickle\n",
    "from elasticsearch import Elasticsearch\n",
    "from faker import Faker\n",
    "import csv\n",
    "import sys\n",
    "sys.path.append('../Partie_1_Analyse')"
   ]
  },
  {
   "attachments": {},
   "cell_type": "markdown",
   "metadata": {},
   "source": [
    "## 1. Mise en place"
   ]
  },
  {
   "attachments": {},
   "cell_type": "markdown",
   "metadata": {},
   "source": [
    "Après avoir installé l'extension Docker dans VS Code et s'être connecté, on suit les étapes suivantes"
   ]
  },
  {
   "attachments": {},
   "cell_type": "markdown",
   "metadata": {},
   "source": [
    "### 1.1 Démarrer un container"
   ]
  },
  {
   "attachments": {},
   "cell_type": "markdown",
   "metadata": {},
   "source": [
    "à partir de l’image docker.elastic.co/elasticsearch/elasticsearch:7.17.10  \n",
    "- en mode détaché -d\n",
    "- monter le volume /usr/share/elasticsearch/data en local\n",
    "- utiliser le mapping de port -p 9200:9200\n",
    "- utiliser la variable -e \"discovery.type=single-node\"\n",
    "- le nom du container sera --name elastic\n",
    "\n",
    "Dans le répertoire de travail, dans un terminal, entrez la commande ci-dessous :"
   ]
  },
  {
   "attachments": {},
   "cell_type": "markdown",
   "metadata": {},
   "source": [
    "`docker run -d -p 9200:9200 -e \"discovery.type=single-node\" -v /home/apprenant/Documents/DevIA/Projet_DevIA/NLP_Project:/usr/share/elasticsearch/data --name elastic docker.elastic.co/elasticsearch/elasticsearch:7.17.10`"
   ]
  },
  {
   "cell_type": "markdown",
   "metadata": {},
   "source": [
    "docker run -d -p 9200:9200 -e \"discovery.type=single-node\" -v $(pwd)/data:/usr/share/elasticsearch/data --name elastic docker.elastic.co/elasticsearch/elasticsearch:7.17.10 "
   ]
  },
  {
   "attachments": {},
   "cell_type": "markdown",
   "metadata": {},
   "source": [
    "### 1.4 Visualiser les logs du container  "
   ]
  },
  {
   "attachments": {},
   "cell_type": "markdown",
   "metadata": {},
   "source": [
    "Dans le terminal, entrez la commande suivante :"
   ]
  },
  {
   "attachments": {},
   "cell_type": "markdown",
   "metadata": {},
   "source": [
    "`docker logs elastic`"
   ]
  },
  {
   "attachments": {},
   "cell_type": "markdown",
   "metadata": {},
   "source": [
    "### 1.3 Appeler la route racine “/” "
   ]
  },
  {
   "attachments": {},
   "cell_type": "markdown",
   "metadata": {},
   "source": [
    "Dans le terminal, entrez la commande suivante :"
   ]
  },
  {
   "attachments": {},
   "cell_type": "markdown",
   "metadata": {},
   "source": [
    "`curl http://localhost:9200/`"
   ]
  },
  {
   "attachments": {},
   "cell_type": "markdown",
   "metadata": {},
   "source": [
    "## 2. Mapper et importer les données"
   ]
  },
  {
   "attachments": {},
   "cell_type": "markdown",
   "metadata": {},
   "source": [
    "Pour voir le status des index crées, il faut se rednre à l'URL suivante : http://localhost:9200/_cat/indices"
   ]
  },
  {
   "attachments": {},
   "cell_type": "markdown",
   "metadata": {},
   "source": [
    "### 2.1 Poster le mapping d’un index nommé “notes”"
   ]
  },
  {
   "attachments": {},
   "cell_type": "markdown",
   "metadata": {},
   "source": [
    "Il doit contenir :  \n",
    "\n",
    "- un champ “patient_lastname” qui est un term\n",
    "- un champ “patient_firstname” qui est un term\n",
    "- un champ “text”, texte analysé en standard\n",
    "- un champ “date”, qui est une date\n",
    "- un champ “patient_left”, qui est un booléen\n",
    "- un champ “emotion”, qui est un term\n",
    "- un champ ‘confidence” qui est un float  "
   ]
  },
  {
   "attachments": {},
   "cell_type": "markdown",
   "metadata": {},
   "source": [
    "Pour poster le mapping de l'index \"notes\" avec les champs spécifiés dans Elasticsearch, on utilise l'API REST d'Elasticsearch avec cURL :  \n",
    "\n",
    "Le conteneur Elasticsearch crée à l'étape précédente doit être en cours d'exécution.  \n",
    "\n",
    "Dans un terminal, il faut entrer la commande suivante pour poster le mapping de l'index \"notes\" :  "
   ]
  },
  {
   "attachments": {},
   "cell_type": "markdown",
   "metadata": {},
   "source": [
    "```\n",
    "curl -X PUT \"http://localhost:9200/notes\" -H 'Content-Type: application/json' -d '\n",
    "{\n",
    "  \"mappings\": {\n",
    "    \"properties\": {\n",
    "      \"patient_lastname\": {\n",
    "        \"type\": \"keyword\"\n",
    "      },\n",
    "      \"patient_firstname\": {\n",
    "        \"type\": \"keyword\"\n",
    "      },\n",
    "      \"text\": {\n",
    "        \"type\": \"text\",\n",
    "        \"analyzer\": \"standard\"\n",
    "      },\n",
    "      \"date\": {\n",
    "        \"type\": \"date\"\n",
    "      },\n",
    "      \"patient_left\": {\n",
    "        \"type\": \"boolean\"\n",
    "      },\n",
    "      \"emotion\": {\n",
    "        \"type\": \"keyword\"\n",
    "      },\n",
    "      \"confidence\": {\n",
    "        \"type\": \"float\"\n",
    "      }\n",
    "    }\n",
    "  }\n",
    "}'\n",
    "```"
   ]
  },
  {
   "attachments": {},
   "cell_type": "markdown",
   "metadata": {},
   "source": [
    "Cette commande envoie une requête PUT à l'URL http://localhost:9200/notes pour créer l'index \"notes\" avec le mapping spécifié. Chaque champ est défini avec son type approprié."
   ]
  },
  {
   "attachments": {},
   "cell_type": "markdown",
   "metadata": {},
   "source": [
    "### 2.2 Alimenter l’index “notes” à l’aide du jeu de données et de la librairie Faker. "
   ]
  },
  {
   "cell_type": "code",
   "execution_count": 3,
   "metadata": {},
   "outputs": [],
   "source": [
    "# # Créer une instance de Faker\n",
    "# fake = Faker()\n",
    "\n",
    "# # Créer une instance d'Elasticsearch\n",
    "# es = Elasticsearch([{'host': 'localhost', 'port': 9200, 'scheme': 'http'}])\n",
    "\n",
    "# # Générer des données et les indexer dans l'index \"notes\"\n",
    "# for _ in range(100):\n",
    "#     note = {\n",
    "#         \"patient_lastname\": fake.last_name(),\n",
    "#         \"patient_firstname\": fake.first_name(),\n",
    "#         \"text\": fake.text(),\n",
    "#         \"date\": fake.date_time_this_decade(),\n",
    "#         \"patient_left\": fake.boolean(),\n",
    "#         \"emotion\": fake.word(),\n",
    "#         \"confidence\": fake.pyfloat(left_digits=2, right_digits=2)\n",
    "#     }\n",
    "#     es.index(index=\"notes\", document=note)\n"
   ]
  },
  {
   "attachments": {},
   "cell_type": "markdown",
   "metadata": {},
   "source": [
    "Ce code utilise la librairie Faker pour générer des valeurs aléatoires pour chaque champ, puis il utilise le client Elasticsearch pour indexer les données dans l'index \"notes\". Vous pouvez ajuster le nombre de documents générés en modifiant la valeur de range(100) selon vos besoins."
   ]
  },
  {
   "attachments": {},
   "cell_type": "markdown",
   "metadata": {},
   "source": [
    "Les notes générées sont accessibles à l'URL suivante : http://localhost:9200/notes/_search  \n",
    "\n",
    "Pour accèder aux nombres de notes dans la BDD : http://localhost:9200/notes/_count"
   ]
  },
  {
   "attachments": {},
   "cell_type": "markdown",
   "metadata": {},
   "source": [
    "Exemple de \"fakes\" notes générées : "
   ]
  },
  {
   "cell_type": "code",
   "execution_count": 11,
   "metadata": {},
   "outputs": [
    {
     "name": "stdout",
     "output_type": "stream",
     "text": [
      "Patient Last Name: Brennan\n",
      "Patient First Name: Desiree\n",
      "Text: i think it s the easiest time of year to feel dissatisfied\n",
      "Date: 2021-05-09\n",
      "Patient Left: False\n",
      "Emotion: anger\n",
      "Confidence: 0.7602833430034607\n",
      "-------------------------\n",
      "Patient Last Name: Williams\n",
      "Patient First Name: Amy\n",
      "Text: i feel low energy i m just thirsty\n",
      "Date: 2018-05-03\n",
      "Patient Left: True\n",
      "Emotion: sadness\n",
      "Confidence: 0.7001218895333582\n",
      "-------------------------\n"
     ]
    }
   ],
   "source": [
    "# Créer une instance d'Elasticsearch\n",
    "es = Elasticsearch([{'host': 'localhost', 'port': 9200, 'scheme': 'http'}])\n",
    "\n",
    "# Effectuer une requête pour récupérer les notes\n",
    "result = es.search(index=\"notes\", size=2)  # Récupère les 2 premiers documents, ajustez la taille selon vos besoins\n",
    "\n",
    "# Parcourir les résultats et afficher les notes\n",
    "for hit in result['hits']['hits']:\n",
    "    note = hit['_source']\n",
    "    print(\"Patient Last Name:\", note['patient_lastname'])\n",
    "    print(\"Patient First Name:\", note['patient_firstname'])\n",
    "    print(\"Text:\", note['text'])\n",
    "    print(\"Date:\", note['date'])\n",
    "    print(\"Patient Left:\", note['patient_left'])\n",
    "    print(\"Emotion:\", note['emotion'])\n",
    "    print(\"Confidence:\", note['confidence'])\n",
    "    print(\"-------------------------\")"
   ]
  },
  {
   "attachments": {},
   "cell_type": "markdown",
   "metadata": {},
   "source": [
    "### 2.3 Mettez en place un pipeline utilisant le modèle TF-IDF que vous avez développé avec scikit-learn pour remplir les champs “emotion” et “confidence”"
   ]
  },
  {
   "attachments": {},
   "cell_type": "markdown",
   "metadata": {},
   "source": [
    "La classe **TextProcessor** est définie dans *preprocessing.py*, puis le pipeline est mis en place dans le fichier *tf-idf.py*, on obient alors le fichier pickle *nlp-pipeline.pkl* que l'on va importer et utiliser pour remplir les champs \"emotion\" et \"confidence\"."
   ]
  },
  {
   "attachments": {},
   "cell_type": "markdown",
   "metadata": {},
   "source": [
    "On remplis les champs de l'index comme suit :   \n",
    "\"patient_lastname\" : Faker  \n",
    "\"patient_firstname\" : Faker  \n",
    "\"text\": CSV  \n",
    "\"date\" : Faker  \n",
    "\"patient_left\" : Faker  \n",
    "\"emotion\" : Model  \n",
    "\"confidence\" : Model  \n"
   ]
  },
  {
   "cell_type": "code",
   "execution_count": 14,
   "metadata": {},
   "outputs": [],
   "source": [
    "# Charger le pipeline pré-entraîné\n",
    "with open('../Partie_1_Analyse/pipeline/nlp-pipeline-linearsvc.pkl', 'rb') as f:\n",
    "    pipeline = pickle.load(f)\n",
    "\n",
    "# Connexion à Elasticsearch\n",
    "es = Elasticsearch([{'host': 'localhost', 'port': 9200, 'scheme': 'http'}])\n",
    "\n",
    "# Instanciation de Faker\n",
    "fake = Faker()\n",
    "\n",
    "# Liste de patients\n",
    "patients = []\n",
    "for _ in range(200):\n",
    "    patients.append((fake.last_name(), fake.first_name()))\n",
    "\n",
    "# Chemin vers le fichier CSV\n",
    "csv_file = '../Partie_1_Analyse/data/Emotion_final.csv'\n",
    "\n",
    "# Lecture du fichier CSV et indexation des données\n",
    "with open(csv_file, 'r') as file:\n",
    "    reader = csv.DictReader(file)\n",
    "    for i, row in enumerate(reader):\n",
    "        # Sélectionner le texte de la ligne\n",
    "        text = row['Text']\n",
    "\n",
    "        # Prétraitement, vectorisation et prédiction avec le pipeline\n",
    "        emotion = pipeline.predict([text])[0]\n",
    "        decision = pipeline.decision_function([text])[0]\n",
    "        confidence = max(1 / (1 + np.exp(-decision)))\n",
    "\n",
    "        # Sélectionner le patient correspondant\n",
    "        patient_lastname, patient_firstname = patients[i % len(patients)]\n",
    "\n",
    "        # Créer le document à indexer\n",
    "        doc = {\n",
    "            'patient_lastname': patient_lastname,\n",
    "            'patient_firstname': patient_firstname,\n",
    "            'text': text,\n",
    "            'date': fake.date(),\n",
    "            'patient_left': fake.boolean(),\n",
    "            'emotion': emotion,\n",
    "            'confidence': confidence\n",
    "        }\n",
    "\n",
    "        # Indexation du document dans Elasticsearch\n",
    "        es.index(index='notes', body=doc)\n",
    "\n",
    "print(\"Indexation terminée.\")\n"
   ]
  },
  {
   "attachments": {},
   "cell_type": "markdown",
   "metadata": {},
   "source": [
    "## 3. Requêtes"
   ]
  },
  {
   "attachments": {},
   "cell_type": "markdown",
   "metadata": {},
   "source": [
    "### 3.1 En recherchant dans la base elastic search, aboutissez à un data frame permettant d’afficher la répartition des sentiments des textes pour un patient (nom/prénom)"
   ]
  },
  {
   "cell_type": "code",
   "execution_count": 87,
   "metadata": {},
   "outputs": [
    {
     "data": {
      "text/html": [
       "<div>\n",
       "<style scoped>\n",
       "    .dataframe tbody tr th:only-of-type {\n",
       "        vertical-align: middle;\n",
       "    }\n",
       "\n",
       "    .dataframe tbody tr th {\n",
       "        vertical-align: top;\n",
       "    }\n",
       "\n",
       "    .dataframe thead th {\n",
       "        text-align: right;\n",
       "    }\n",
       "</style>\n",
       "<table border=\"1\" class=\"dataframe\">\n",
       "  <thead>\n",
       "    <tr style=\"text-align: right;\">\n",
       "      <th></th>\n",
       "      <th>key</th>\n",
       "      <th>doc_count</th>\n",
       "      <th>Percentage</th>\n",
       "    </tr>\n",
       "  </thead>\n",
       "  <tbody>\n",
       "    <tr>\n",
       "      <th>0</th>\n",
       "      <td>sadness</td>\n",
       "      <td>38</td>\n",
       "      <td>35.185185</td>\n",
       "    </tr>\n",
       "    <tr>\n",
       "      <th>1</th>\n",
       "      <td>happy</td>\n",
       "      <td>29</td>\n",
       "      <td>26.851852</td>\n",
       "    </tr>\n",
       "    <tr>\n",
       "      <th>2</th>\n",
       "      <td>anger</td>\n",
       "      <td>21</td>\n",
       "      <td>19.444444</td>\n",
       "    </tr>\n",
       "    <tr>\n",
       "      <th>3</th>\n",
       "      <td>fear</td>\n",
       "      <td>10</td>\n",
       "      <td>9.259259</td>\n",
       "    </tr>\n",
       "    <tr>\n",
       "      <th>4</th>\n",
       "      <td>love</td>\n",
       "      <td>6</td>\n",
       "      <td>5.555556</td>\n",
       "    </tr>\n",
       "    <tr>\n",
       "      <th>5</th>\n",
       "      <td>surprise</td>\n",
       "      <td>4</td>\n",
       "      <td>3.703704</td>\n",
       "    </tr>\n",
       "  </tbody>\n",
       "</table>\n",
       "</div>"
      ],
      "text/plain": [
       "        key  doc_count  Percentage\n",
       "0   sadness         38   35.185185\n",
       "1     happy         29   26.851852\n",
       "2     anger         21   19.444444\n",
       "3      fear         10    9.259259\n",
       "4      love          6    5.555556\n",
       "5  surprise          4    3.703704"
      ]
     },
     "execution_count": 87,
     "metadata": {},
     "output_type": "execute_result"
    }
   ],
   "source": [
    "from elasticsearch import Elasticsearch\n",
    "import pandas as pd\n",
    "\n",
    "def distribution_sentiment(es, patient_firstname, patient_lastname):\n",
    "    query = {\n",
    "            \"size\": 10,\n",
    "            \"query\": {\n",
    "                \"bool\": {\n",
    "                    \"must\": [\n",
    "                        {\"term\": {\"patient_firstname\": patient_firstname}},\n",
    "                        {\"term\": {\"patient_lastname\": patient_lastname}}\n",
    "                    ]\n",
    "                }\n",
    "            },\n",
    "            \"aggs\": {\n",
    "                \"sentiment_distribution\": {\n",
    "                    \"terms\": {\"field\": \"emotion\"}\n",
    "                }\n",
    "            }\n",
    "        }\n",
    "\n",
    "    response = es.search(index=\"notes\", body=query)\n",
    "    buckets = response[\"aggregations\"][\"sentiment_distribution\"][\"buckets\"]\n",
    "\n",
    "    # Création du DataFrame\n",
    "    df = pd.DataFrame(buckets, columns=[\"key\", \"doc_count\"])\n",
    "    total_count = df[\"doc_count\"].sum()\n",
    "    \n",
    "    # Calcul des pourcentages\n",
    "    df[\"Percentage\"] = (df[\"doc_count\"] / total_count) * 100\n",
    "\n",
    "    return df\n",
    "\n",
    "# Exemple d'utilisation\n",
    "distribution_sentiment(es, \"Laura\", \"Wright\")\n"
   ]
  },
  {
   "attachments": {},
   "cell_type": "markdown",
   "metadata": {},
   "source": [
    "### 3.2  Élaborez une matrice de sentiments contradictoire (toujours en utilisant la base elastic search.    "
   ]
  },
  {
   "attachments": {},
   "cell_type": "markdown",
   "metadata": {},
   "source": [
    "On veut savoir parmi les documents classifiés comme *happy*, quel pourcentage contient le mot *sadness*. Puis quel pourcentage contient *fear*, etc.  Et cela, pour tous les sentiments.  \n",
    "On représente les résultats dans une HeatMap  "
   ]
  },
  {
   "cell_type": "code",
   "execution_count": 126,
   "metadata": {},
   "outputs": [
    {
     "name": "stdout",
     "output_type": "stream",
     "text": [
      "7157\n"
     ]
    },
    {
     "data": {
      "text/plain": [
       "204"
      ]
     },
     "execution_count": 126,
     "metadata": {},
     "output_type": "execute_result"
    }
   ],
   "source": [
    "def compter_doc_sentiment(es,emotion):\n",
    "    query = {\n",
    "        \"size\": 0,\n",
    "        \"query\": {\n",
    "            \"terms\": {\n",
    "                \"emotion\": [emotion]\n",
    "            }\n",
    "        }\n",
    "    }\n",
    "   \n",
    "    response = es.search(index=\"notes\", body=query)\n",
    "\n",
    "    return response[\"hits\"][\"total\"][\"value\"]\n",
    "\n",
    "\n",
    "def compter_doc_sentiment_et_mot(es,emotion,emotion_word):\n",
    "    query = {\n",
    "        \"size\": 0,\n",
    "        \"query\": {\n",
    "            \"terms\": {\n",
    "                \"emotion\": [emotion]\n",
    "            }\n",
    "        },\n",
    "        \"post_filter\": {\n",
    "            \"match\": {\n",
    "                \"text\": emotion_word\n",
    "            }\n",
    "        }\n",
    "    }\n",
    "\n",
    "    \n",
    "    response = es.search(index=\"notes\", body=query)\n",
    "\n",
    "    return response[\"hits\"][\"total\"][\"value\"]\n",
    "\n",
    "\n",
    "\n",
    "print(compter_doc_sentiment(es,'happy'))\n",
    "compter_doc_sentiment_et_mot(es,'happy', 'happy')"
   ]
  },
  {
   "cell_type": "code",
   "execution_count": 93,
   "metadata": {},
   "outputs": [
    {
     "data": {
      "image/png": "[encoded data removed]",
      "text/plain": [
       "<Figure size 640x480 with 2 Axes>"
      ]
     },
     "metadata": {},
     "output_type": "display_data"
    }
   ],
   "source": [
    "import numpy as np\n",
    "import matplotlib.pyplot as plt\n",
    "\n",
    "# Liste des sentiments\n",
    "sentiments = ['happy', 'fear', 'sadness', 'anger', 'love', 'surprise']\n",
    "\n",
    "# Matrice de contradiction\n",
    "contradiction_matrix = np.zeros((len(sentiments), len(sentiments)))\n",
    "\n",
    "# Boucle pour chaque sentiment\n",
    "for i in range(len(sentiments)):\n",
    "    for j in range(len(sentiments)):\n",
    "        # Compter le nombre de documents avec le sentiment i et le mot j\n",
    "        count = compter_doc_sentiment_et_mot(es, sentiments[i], sentiments[j])\n",
    "        \n",
    "        # Calculer le pourcentage\n",
    "        total_count = compter_doc_sentiment(es, sentiments[i])\n",
    "        percentage = (count / total_count) * 100\n",
    "        \n",
    "        # Stocker le pourcentage dans la matrice de contradiction\n",
    "        contradiction_matrix[i][j] = percentage\n",
    "\n",
    "# Création de la HeatMap\n",
    "fig, ax = plt.subplots()\n",
    "heatmap = ax.imshow(contradiction_matrix, cmap='YlOrRd')\n",
    "\n",
    "ax.set_xticks(np.arange(len(sentiments)))\n",
    "ax.set_yticks(np.arange(len(sentiments)))\n",
    "ax.set_xticklabels(sentiments)\n",
    "ax.set_yticklabels(sentiments)\n",
    "\n",
    "# Ajouter les valeurs sur la HeatMap\n",
    "for i in range(len(sentiments)):\n",
    "    for j in range(len(sentiments)):\n",
    "        text = ax.text(j, i, \"{:.2f}%\".format(contradiction_matrix[i, j]), ha=\"center\", va=\"center\", color=\"black\")\n",
    "\n",
    "plt.colorbar(heatmap)\n",
    "plt.show()\n"
   ]
  },
  {
   "attachments": {},
   "cell_type": "markdown",
   "metadata": {},
   "source": [
    "### 3.3. Pour chacune des étapes du deuil (denial, anger, bargaining, depression, and acceptance) rechercher le nombre de text correspondants"
   ]
  },
  {
   "attachments": {},
   "cell_type": "markdown",
   "metadata": {},
   "source": [
    "à l’aide:  \n",
    "- d’une recherche pleine  \n",
    "- d’une fuzzy recherche.  "
   ]
  },
  {
   "cell_type": "code",
   "execution_count": 100,
   "metadata": {},
   "outputs": [
    {
     "name": "stdout",
     "output_type": "stream",
     "text": [
      "Nombre de textes pour l'étape denial : 2\n",
      "Nombre de textes pour l'étape anger : 66\n",
      "Nombre de textes pour l'étape bargaining : 0\n",
      "Nombre de textes pour l'étape depression : 23\n",
      "Nombre de textes pour l'étape acceptance : 9\n"
     ]
    }
   ],
   "source": [
    "# Étapes du deuil\n",
    "stages_of_grief = ['denial', 'anger', 'bargaining', 'depression', 'acceptance']\n",
    "\n",
    "# Boucle pour chaque étape\n",
    "for stage in stages_of_grief:\n",
    "    # Requête de correspondance pour l'étape spécifique\n",
    "    query = {\n",
    "        \"query\": {\n",
    "            \"match\": {\n",
    "                \"text\": stage\n",
    "            }\n",
    "        }\n",
    "    }\n",
    "\n",
    "    # Exécution de la requête\n",
    "    response = es.search(index='notes', body=query)\n",
    "\n",
    "    # Récupération du nombre de documents correspondants\n",
    "    num_documents = response['hits']['total']['value']\n",
    "\n",
    "    # Affichage du résultat\n",
    "    print(\"Nombre de textes pour l'étape\", stage, \":\", num_documents)\n"
   ]
  },
  {
   "attachments": {},
   "cell_type": "markdown",
   "metadata": {},
   "source": [
    "**Recherche approximative**   \n",
    "Le paramètre de recherche \"fuzzy\" dans Elasticsearch permet d'effectuer une recherche approximative (ou floue) basée sur la similarité entre les termes.   \n",
    "En utilisant cette requête, Elasticsearch va rechercher dans le champ spécifié (\"text\") des termes qui sont similaires au terme donné (\"denial\"). La similarité sera déterminée en utilisant l'**algorithme de correspondance floue de Levenshtein** (par défaut) ou tout autre algorithme configuré.\n",
    "Cet alogirthme fonctionne de la manière suivante :  \n",
    "On donne 2 mots, pour chaque paire de caractères, l'algorithme détermine si les caractères sont identiques ou différents, chaque opération d'insertion, substitution ou suppression ajoute un couût de 1 à la distance d'édition. À la fin, **la distance d'édition est le nombre total d'opérations de substitution, d'insertion et de suppression effectuées pour transformer une chaîne en une autre**.  \n",
    "Par défaut sur Elasticsearch, elle est fixée à 2."
   ]
  },
  {
   "cell_type": "code",
   "execution_count": 101,
   "metadata": {},
   "outputs": [
    {
     "name": "stdout",
     "output_type": "stream",
     "text": [
      "Nombre de textes pour l'étape denial : 119\n",
      "Nombre de textes pour l'étape anger : 82\n",
      "Nombre de textes pour l'étape bargaining : 0\n",
      "Nombre de textes pour l'étape depression : 84\n",
      "Nombre de textes pour l'étape acceptance : 71\n"
     ]
    }
   ],
   "source": [
    "# Boucle pour chaque étape\n",
    "for stage in stages_of_grief:\n",
    "    query = {\n",
    "        \"query\": {\n",
    "            \"fuzzy\": {\n",
    "                \"text\": stage\n",
    "            }\n",
    "        }\n",
    "    }\n",
    "\n",
    "    # Exécution de la requête\n",
    "    response = es.search(index='notes', body=query)\n",
    "\n",
    "    # Récupération du nombre de documents correspondants\n",
    "    num_documents = response['hits']['total']['value']\n",
    "\n",
    "    # Affichage du résultat\n",
    "    print(\"Nombre de textes pour l'étape\", stage, \":\", num_documents)\n"
   ]
  },
  {
   "attachments": {},
   "cell_type": "markdown",
   "metadata": {},
   "source": [
    "### 3.4 Rechercher les textes"
   ]
  },
  {
   "attachments": {},
   "cell_type": "markdown",
   "metadata": {},
   "source": [
    "- qui doivent matcher l’expression “good day” (must)  \n",
    "- chez les patients encore en consultation (filter)  \n",
    "- qui contiennent si possible “to rest” (should)  \n",
    "- qui ne doivent pas avoir seuil de confiance inférieur à 0.6 s’il existe.   \n",
    "- Observer la répartition de ces résultats par sentiment  "
   ]
  },
  {
   "cell_type": "code",
   "execution_count": 13,
   "metadata": {},
   "outputs": [
    {
     "name": "stdout",
     "output_type": "stream",
     "text": [
      "Document ID: HYoyJ4kBgQK_72RqA4Tz\n",
      "Text: i end up feeling exhausted for all the rest of the day\n",
      "Patient Last Name: Roberson\n",
      "Patient First Name: Beth\n",
      "Date: 1977-04-11\n",
      "Patient Left: False\n",
      "Emotion: sadness\n",
      "Confidence: 0.7635605799622162\n",
      "----------------------------------\n",
      "Document ID: 4YowJ4kBgQK_72RqYn0j\n",
      "Text: i either feel like crap about myself all day and try to make up for it the rest of the day and am exhausted\n",
      "Patient Last Name: Ayers\n",
      "Patient First Name: Jacqueline\n",
      "Date: 1998-09-19\n",
      "Patient Left: False\n",
      "Emotion: sadness\n",
      "Confidence: 0.6623424444063446\n",
      "----------------------------------\n",
      "Document ID: 64o1J4kBgQK_72Rqp5F6\n",
      "Text: i end up feeling groggy the rest of the day amp guilty that i didnt get anything done\n",
      "Patient Last Name: Griffin\n",
      "Patient First Name: Brittany\n",
      "Date: 1998-06-28\n",
      "Patient Left: False\n",
      "Emotion: sadness\n",
      "Confidence: 0.9112498534121478\n",
      "----------------------------------\n",
      "Document ID: 04ovJ4kBgQK_72RqUHlo\n",
      "Text: ive had where i feel good enough to work the whole shift possibly the whole day\n",
      "Patient Last Name: Hayes\n",
      "Patient First Name: Dylan\n",
      "Date: 1999-05-13\n",
      "Patient Left: False\n",
      "Emotion: happy\n",
      "Confidence: 0.6237879169159355\n",
      "----------------------------------\n",
      "Document ID: RIosJ4kBgQK_72RqPG67\n",
      "Text: i feel so lame complaining that for minutes i get some blurry vision and then have to take it easy the rest of the day\n",
      "Patient Last Name: Kim\n",
      "Patient First Name: Walter\n",
      "Date: 2015-10-22\n",
      "Patient Left: False\n",
      "Emotion: sadness\n",
      "Confidence: 0.7183236100020556\n",
      "----------------------------------\n",
      "Document ID: 04orJ4kBgQK_72RqUmoo\n",
      "Text: i worked out monday and tuesday but i was feeling so crappy on wednesday that i went home and decided to make it a rest day\n",
      "Patient Last Name: Cooper\n",
      "Patient First Name: David\n",
      "Date: 1998-07-13\n",
      "Patient Left: False\n",
      "Emotion: sadness\n",
      "Confidence: 0.7372660814878117\n",
      "----------------------------------\n",
      "Document ID: 4IotJ4kBgQK_72RqeHIO\n",
      "Text: i have to get on my bike days straight so feeling tender a day after playing rugby is good prep for that\n",
      "Patient Last Name: Lewis\n",
      "Patient First Name: Allison\n",
      "Date: 1970-05-14\n",
      "Patient Left: False\n",
      "Emotion: love\n",
      "Confidence: 0.6548188501977475\n",
      "----------------------------------\n",
      "Document ID: VIowJ4kBgQK_72RqPH34\n",
      "Text: i feel rather listless and dull today slightly head achy and good chances of blahness throughout the day\n",
      "Patient Last Name: Owens\n",
      "Patient First Name: James\n",
      "Date: 1995-06-10\n",
      "Patient Left: False\n",
      "Emotion: sadness\n",
      "Confidence: 0.7844721315265856\n",
      "----------------------------------\n",
      "Document ID: yYouJ4kBgQK_72RqxXdR\n",
      "Text: i felt good in a way where i really didn t feel the tension of being punished for a day\n",
      "Patient Last Name: Gibson\n",
      "Patient First Name: Robert\n",
      "Date: 1970-02-08\n",
      "Patient Left: False\n",
      "Emotion: sadness\n",
      "Confidence: 0.7594337327559093\n",
      "----------------------------------\n",
      "Document ID: pIotJ4kBgQK_72RqI3E3\n",
      "Text: i have a rough day every now and then where i feel exhausted all day no matter how much sleep i get and then im good for a week or so\n",
      "Patient Last Name: Gonzalez\n",
      "Patient First Name: James\n",
      "Date: 2011-10-10\n",
      "Patient Left: False\n",
      "Emotion: sadness\n",
      "Confidence: 0.6694927245808103\n",
      "----------------------------------\n"
     ]
    }
   ],
   "source": [
    "query = {\n",
    "  \"query\": {\n",
    "    \"bool\": {\n",
    "      \"must\": [\n",
    "        {\n",
    "          \"match\": {\"text\": \"good day\"}\n",
    "        }\n",
    "      ],\n",
    "      \"should\": [\n",
    "        {\n",
    "          \"match\": {\"text\": \"to rest\"}\n",
    "        }\n",
    "      ], \n",
    "      \"filter\": [\n",
    "        {\n",
    "          \"term\": {\"patient_left\": False}\n",
    "        },\n",
    "        {\n",
    "          \"range\": {\"confidence\": {\"gte\": 0.6}}\n",
    "        }\n",
    "      ]\n",
    "    }\n",
    "  }\n",
    "}\n",
    "\n",
    "response = es.search(index='notes', body=query)\n",
    "\n",
    "\n",
    "# Récupérer les hits (documents) de la réponse\n",
    "hits = response['hits']['hits']\n",
    "\n",
    "# Parcourir les documents et afficher les informations pertinentes\n",
    "for hit in hits:\n",
    "    # Récupérer les champs du document\n",
    "    doc_id = hit['_id']\n",
    "    note = hit['_source']\n",
    "\n",
    "    # Afficher les informations du document\n",
    "    print(\"Document ID:\", doc_id)\n",
    "    print(\"Text:\", note['text'])\n",
    "    print(\"Patient Last Name:\", note['patient_lastname'])\n",
    "    print(\"Patient First Name:\", note['patient_firstname'])\n",
    "    print(\"Date:\", note['date'])\n",
    "    print(\"Patient Left:\", note['patient_left'])\n",
    "    print(\"Emotion:\", note['emotion'])\n",
    "    print(\"Confidence:\", note['confidence'])\n",
    "    print(\"----------------------------------\")\n"
   ]
  },
  {
   "attachments": {},
   "cell_type": "markdown",
   "metadata": {},
   "source": [
    "## Effacer la BDD"
   ]
  },
  {
   "cell_type": "code",
   "execution_count": 13,
   "metadata": {},
   "outputs": [
    {
     "name": "stdout",
     "output_type": "stream",
     "text": [
      "Les documents ont été supprimés avec succès.\n"
     ]
    }
   ],
   "source": [
    "# index = 'notes'  # Remplacez par le nom de votre index\n",
    "\n",
    "# # URL de l'API de suppression des documents\n",
    "# url = f'http://localhost:9200/{index}/_delete_by_query'\n",
    "\n",
    "# # Corps de la requête de suppression\n",
    "# query = {\n",
    "#     \"query\": {\n",
    "#         \"match_all\": {}\n",
    "#     }\n",
    "# }\n",
    "\n",
    "# # Envoyer la requête de suppression\n",
    "# response = requests.post(url, json=query)\n",
    "\n",
    "# # Vérifier la réponse\n",
    "# if response.status_code == 200:\n",
    "#     print(\"Les documents ont été supprimés avec succès.\")\n",
    "# else:\n",
    "#     print(\"Une erreur s'est produite lors de la suppression des documents.\")\n",
    "#     print(response.text)"
   ]
  },
  {
   "attachments": {},
   "cell_type": "markdown",
   "metadata": {},
   "source": [
    "## Effacer l'index \"notes\""
   ]
  },
  {
   "cell_type": "code",
   "execution_count": 124,
   "metadata": {},
   "outputs": [],
   "source": [
    "# from elasticsearch import Elasticsearch\n",
    "\n",
    "# # Connexion à Elasticsearch\n",
    "# es = Elasticsearch(hosts=['http://localhost:9200'])\n",
    "\n",
    "# # Suppression de l'index \"notes\"\n",
    "# index_name = \"notes\"\n",
    "# response = es.indices.delete(index=index_name)\n",
    "\n",
    "# # Vérification de la réponse\n",
    "# if response['acknowledged']:\n",
    "#     print(f\"L'index '{index_name}' a été supprimé avec succès.\")\n",
    "# else:\n",
    "#     print(f\"Erreur lors de la suppression de l'index '{index_name}'.\")"
   ]
  }
 ],
 "metadata": {
  "kernelspec": {
   "display_name": "base",
   "language": "python",
   "name": "python3"
  },
  "language_info": {
   "codemirror_mode": {
    "name": "ipython",
    "version": 3
   },
   "file_extension": ".py",
   "mimetype": "text/x-python",
   "name": "python",
   "nbconvert_exporter": "python",
   "pygments_lexer": "ipython3",
   "version": "3.10.8"
  },
  "orig_nbformat": 4
 },
 "nbformat": 4,
 "nbformat_minor": 2
}
