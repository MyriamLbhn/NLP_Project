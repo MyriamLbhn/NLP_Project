{
 "cells": [
  {
   "cell_type": "code",
   "execution_count": 1,
   "metadata": {},
   "outputs": [],
   "source": [
    "import pickle\n",
    "from elasticsearch import Elasticsearch\n",
    "from faker import Faker\n",
    "import csv\n",
    "from preprocessing import TextProcessor\n",
    "\n",
    "\n",
    "# Charger le pipeline pré-entraîné\n",
    "with open('pipeline/nlp-pipeline-linearsvc.pkl', 'rb') as f:\n",
    "    pipeline = pickle.load(f)\n"
   ]
  },
  {
   "cell_type": "code",
   "execution_count": 14,
   "metadata": {},
   "outputs": [
    {
     "name": "stdout",
     "output_type": "stream",
     "text": [
      "  Sentiment  Count\n",
      "0     happy      0\n",
      "1   sadness      0\n",
      "2      fear      0\n"
     ]
    },
    {
     "name": "stderr",
     "output_type": "stream",
     "text": [
      "/tmp/ipykernel_24274/1261488509.py:25: ElasticsearchWarning: Elasticsearch built-in security features are not enabled. Without authentication, your cluster could be accessible to anyone. See https://www.elastic.co/guide/en/elasticsearch/reference/7.17/security-minimal-setup.html to enable security.\n",
      "  result = es.search(index='notes', body=query, request_timeout=30)\n"
     ]
    }
   ],
   "source": [
    "from elasticsearch import Elasticsearch\n",
    "import warnings\n",
    "warnings.filterwarnings(\"ignore\", category=DeprecationWarning)\n",
    "\n",
    "\n",
    "import pandas as pd\n",
    "\n",
    "es = Elasticsearch([{'host': 'localhost', 'port': 9200, 'scheme': 'http'}])\n",
    "\n",
    "# Paramètres du patient\n",
    "patient_lastname = \"Campos\"\n",
    "patient_firstname = \"Steven\"\n",
    "\n",
    "# Recherche des documents associés au patient\n",
    "query = {\n",
    "    \"query\": {\n",
    "        \"bool\": {\n",
    "            \"must\": [\n",
    "                { \"term\": { \"patient_lastname.keyword\": patient_lastname } },\n",
    "                { \"term\": { \"patient_firstname.keyword\": patient_firstname } }\n",
    "            ]\n",
    "        }\n",
    "    }\n",
    "}\n",
    "result = es.search(index='notes', body=query, request_timeout=30)\n",
    "\n",
    "\n",
    "# Liste des sentiments possibles\n",
    "sentiments = [\"happy\", \"sadness\", \"fear\"]\n",
    "\n",
    "# Compteur pour chaque sentiment\n",
    "sentiment_counts = {sentiment: 0 for sentiment in sentiments}\n",
    "\n",
    "# Parcours des résultats et comptage des sentiments\n",
    "for hit in result['hits']['hits']:\n",
    "    emotion = hit['_source']['emotion']\n",
    "    sentiment_counts[emotion] += 1\n",
    "\n",
    "# Création du DataFrame\n",
    "df = pd.DataFrame(sentiment_counts.items(), columns=['Sentiment', 'Count'])\n",
    "\n",
    "# Affichage du DataFrame\n",
    "print(df)\n",
    "\n",
    "\n"
   ]
  }
 ],
 "metadata": {
  "kernelspec": {
   "display_name": "sklearn-env",
   "language": "python",
   "name": "python3"
  },
  "language_info": {
   "codemirror_mode": {
    "name": "ipython",
    "version": 3
   },
   "file_extension": ".py",
   "mimetype": "text/x-python",
   "name": "python",
   "nbconvert_exporter": "python",
   "pygments_lexer": "ipython3",
   "version": "3.11.3"
  },
  "orig_nbformat": 4
 },
 "nbformat": 4,
 "nbformat_minor": 2
}
