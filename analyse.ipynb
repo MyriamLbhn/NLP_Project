{
 "cells": [
  {
   "attachments": {},
   "cell_type": "markdown",
   "metadata": {},
   "source": [
    "# <font color=\"green\">  1. Imports  </font>"
   ]
  },
  {
   "cell_type": "code",
   "execution_count": 169,
   "metadata": {},
   "outputs": [],
   "source": [
    "import pandas as pd\n",
    "import spacy\n",
    "import matplotlib.pyplot as plt\n",
    "import seaborn as sns\n",
    "import numpy as np\n",
    "from sklearn.feature_extraction.text import CountVectorizer\n",
    "from sklearn.metrics.pairwise import cosine_similarity\n",
    "import spacy\n",
    "import pandas as pd\n",
    "from sklearn.feature_extraction.text import CountVectorizer, TfidfVectorizer\n",
    "from sklearn.model_selection import train_test_split\n",
    "from sklearn.svm import SVC\n",
    "from sklearn.metrics import accuracy_score\n",
    "from faker import Faker\n",
    "from elasticsearch import Elasticsearch\n",
    "from sklearn.feature_extraction.text import TfidfVectorizer\n"
   ]
  },
  {
   "attachments": {},
   "cell_type": "markdown",
   "metadata": {},
   "source": [
    "# <font color=\"blue\">  2. Data  </font>"
   ]
  },
  {
   "cell_type": "code",
   "execution_count": 170,
   "metadata": {},
   "outputs": [],
   "source": [
    "df = pd.read_csv('data/Emotion_final_bronze.csv')"
   ]
  },
  {
   "attachments": {},
   "cell_type": "markdown",
   "metadata": {},
   "source": [
    "# <font color=\"red\">  3. Analyse </font>"
   ]
  },
  {
   "cell_type": "code",
   "execution_count": 171,
   "metadata": {},
   "outputs": [
    {
     "data": {
      "text/html": [
       "<div>\n",
       "<style scoped>\n",
       "    .dataframe tbody tr th:only-of-type {\n",
       "        vertical-align: middle;\n",
       "    }\n",
       "\n",
       "    .dataframe tbody tr th {\n",
       "        vertical-align: top;\n",
       "    }\n",
       "\n",
       "    .dataframe thead th {\n",
       "        text-align: right;\n",
       "    }\n",
       "</style>\n",
       "<table border=\"1\" class=\"dataframe\">\n",
       "  <thead>\n",
       "    <tr style=\"text-align: right;\">\n",
       "      <th></th>\n",
       "      <th>Text</th>\n",
       "      <th>Emotion</th>\n",
       "    </tr>\n",
       "  </thead>\n",
       "  <tbody>\n",
       "    <tr>\n",
       "      <th>0</th>\n",
       "      <td>i didnt feel humiliated</td>\n",
       "      <td>sadness</td>\n",
       "    </tr>\n",
       "    <tr>\n",
       "      <th>1</th>\n",
       "      <td>i can go from feeling so hopeless to so damned...</td>\n",
       "      <td>sadness</td>\n",
       "    </tr>\n",
       "    <tr>\n",
       "      <th>2</th>\n",
       "      <td>im grabbing a minute to post i feel greedy wrong</td>\n",
       "      <td>anger</td>\n",
       "    </tr>\n",
       "    <tr>\n",
       "      <th>3</th>\n",
       "      <td>i am ever feeling nostalgic about the fireplac...</td>\n",
       "      <td>love</td>\n",
       "    </tr>\n",
       "    <tr>\n",
       "      <th>4</th>\n",
       "      <td>i am feeling grouchy</td>\n",
       "      <td>anger</td>\n",
       "    </tr>\n",
       "    <tr>\n",
       "      <th>...</th>\n",
       "      <td>...</td>\n",
       "      <td>...</td>\n",
       "    </tr>\n",
       "    <tr>\n",
       "      <th>21454</th>\n",
       "      <td>Melissa stared at her friend in dism</td>\n",
       "      <td>fear</td>\n",
       "    </tr>\n",
       "    <tr>\n",
       "      <th>21455</th>\n",
       "      <td>Successive state elections have seen the gover...</td>\n",
       "      <td>fear</td>\n",
       "    </tr>\n",
       "    <tr>\n",
       "      <th>21456</th>\n",
       "      <td>Vincent was irritated but not dismay</td>\n",
       "      <td>fear</td>\n",
       "    </tr>\n",
       "    <tr>\n",
       "      <th>21457</th>\n",
       "      <td>Kendall-Hume turned back to face the dismayed ...</td>\n",
       "      <td>fear</td>\n",
       "    </tr>\n",
       "    <tr>\n",
       "      <th>21458</th>\n",
       "      <td>I am dismayed , but not surpris</td>\n",
       "      <td>fear</td>\n",
       "    </tr>\n",
       "  </tbody>\n",
       "</table>\n",
       "<p>21459 rows × 2 columns</p>\n",
       "</div>"
      ],
      "text/plain": [
       "                                                    Text  Emotion\n",
       "0                                i didnt feel humiliated  sadness\n",
       "1      i can go from feeling so hopeless to so damned...  sadness\n",
       "2       im grabbing a minute to post i feel greedy wrong    anger\n",
       "3      i am ever feeling nostalgic about the fireplac...     love\n",
       "4                                   i am feeling grouchy    anger\n",
       "...                                                  ...      ...\n",
       "21454               Melissa stared at her friend in dism     fear\n",
       "21455  Successive state elections have seen the gover...     fear\n",
       "21456               Vincent was irritated but not dismay     fear\n",
       "21457  Kendall-Hume turned back to face the dismayed ...     fear\n",
       "21458                    I am dismayed , but not surpris     fear\n",
       "\n",
       "[21459 rows x 2 columns]"
      ]
     },
     "execution_count": 171,
     "metadata": {},
     "output_type": "execute_result"
    }
   ],
   "source": [
    "df"
   ]
  },
  {
   "cell_type": "code",
   "execution_count": 172,
   "metadata": {},
   "outputs": [
    {
     "data": {
      "text/plain": [
       "array(['sadness', 'anger', 'love', 'surprise', 'fear', 'happy'],\n",
       "      dtype=object)"
      ]
     },
     "execution_count": 172,
     "metadata": {},
     "output_type": "execute_result"
    }
   ],
   "source": [
    "df.Emotion.unique()"
   ]
  },
  {
   "cell_type": "code",
   "execution_count": 173,
   "metadata": {},
   "outputs": [
    {
     "name": "stdout",
     "output_type": "stream",
     "text": [
      "happy       7029\n",
      "sadness     6265\n",
      "anger       2993\n",
      "fear        2652\n",
      "love        1641\n",
      "surprise     879\n",
      "Name: Emotion, dtype: int64\n"
     ]
    }
   ],
   "source": [
    "counts = df['Emotion'].value_counts()\n",
    "print(counts)"
   ]
  },
  {
   "cell_type": "code",
   "execution_count": 174,
   "metadata": {},
   "outputs": [
    {
     "data": {
      "image/png": "[encoded data removed]",
      "text/plain": [
       "<Figure size 640x480 with 1 Axes>"
      ]
     },
     "metadata": {},
     "output_type": "display_data"
    }
   ],
   "source": [
    "counts = df['Emotion'].value_counts()\n",
    "\n",
    "plt.bar(counts.index, counts.values)\n",
    "plt.xlabel('Émotion')\n",
    "plt.ylabel('Nombre de textes')\n",
    "plt.title('Répartition des textes par émotions')\n",
    "plt.show()\n"
   ]
  },
  {
   "attachments": {},
   "cell_type": "markdown",
   "metadata": {},
   "source": [
    "# <font color=\"red\">  4. Stopwords  </font>"
   ]
  },
  {
   "cell_type": "code",
   "execution_count": 175,
   "metadata": {},
   "outputs": [
    {
     "data": {
      "text/plain": [
       "326"
      ]
     },
     "execution_count": 175,
     "metadata": {},
     "output_type": "execute_result"
    }
   ],
   "source": [
    "nlp = spacy.load(\"en_core_web_sm\")\n",
    "stopwords = nlp.Defaults.stop_words\n",
    "len(stopwords)"
   ]
  },
  {
   "cell_type": "code",
   "execution_count": 176,
   "metadata": {},
   "outputs": [
    {
     "name": "stdout",
     "output_type": "stream",
     "text": [
      "{'never', 'see', 'nobody', 'your', \"'re\", 'among', 'formerly', 'whatever', 'unless', 'being', 'could', 'forty', 'each', 'upon', 'everywhere', 'without', 'is', 'were', 'feel', 'under', 'first', 'nine', 'whither', 'cannot', 't', 'whose', 'beforehand', 'still', 'or', 'he', 'thereby', 'two', 'latter', 'least', 'last', '‘d', 'often', 'with', 'anyhow', '’d', 'had', 'whole', 'us', 'everyone', 'go', 'since', 'back', 'hereby', 'myself', 'yourselves', 'ten', 'and', 'less', 'fifteen', 'by', 'even', 'except', 'someone', 'n‘t', 'hundred', 'was', 'made', 'not', 'though', 'five', 'amongst', 'fifty', '‘s', 'per', 'every', 'whence', 'toward', 'it', 'these', 'from', 'you', 'across', 'nor', 'few', 'feeling', 'some', 'say', 'about', 'll', 'how', 'hereafter', 'more', 'former', '’re', 'others', 'where', 'nt', 'much', 'itself', 'keep', 'three', 'other', 'various', 'front', 'regarding', 'their', 'we', 'only', 'our', 'very', 'again', 'serious', 'her', '’ll', 'them', 'around', 'sixty', \"n't\", 'thereupon', 'thereafter', 'seemed', 'anyway', 'own', 'during', 'side', 'then', 'sometimes', 'd', \"'s\", 'been', 'bit', 'whether', 'else', 'here', 'doing', '‘re', 'little', 'along', 'afterwards', 'anything', 'between', 'can', 'mostly', 'indeed', 'elsewhere', 'latterly', 'once', 'n’t', 'already', 'both', 'either', 'using', 'may', 'but', 'for', 'whereas', 'none', 'always', 'behind', 'whoever', 'himself', 've', 'same', 'to', 'full', 'until', 'wherever', 'down', 'towards', 'perhaps', 'therein', 'anywhere', 'moreover', 'anyone', '‘m', 'eleven', 'really', 'what', 'an', 'above', \"'ll\", 'seeming', 'whereupon', 'i', '’s', 'onto', 'nowhere', 'via', 'ca', 'yourself', 'which', 'somewhere', 'throughout', 'seem', 'so', 'those', \"'m\", 'below', 'would', 'whereby', '’ve', 'against', 'show', 'becomes', 'ourselves', 'becoming', 'out', 'wherein', 'must', 'should', 'no', 'over', 'noone', 'on', 'have', 'through', '’m', 'however', 's', 'after', 'neither', 'who', 'of', 'nothing', 'many', \"'d\", 'hers', 'call', 'a', 'please', 'ours', 'my', 'into', 'him', 'six', 'thru', 'm', 'that', 'most', '`', 'am', 'whenever', 'yet', 'empty', 'if', 'up', 'does', 'hence', 'give', 'be', 'do', 'otherwise', 'just', 'whom', 'might', 'beyond', 'sometime', 'yours', 'now', 'has', 'alone', 'themselves', 'are', ',', 'too', 'twelve', 'therefore', 'everything', 'meanwhile', 'thence', 'besides', 'also', 'another', 'take', 'third', 'one', \"'ve\", 'seems', 'the', 'any', 'while', 'become', 'four', 'several', 'almost', 'its', 'mine', 'beside', 'ever', 'than', 'bottom', 'quite', 'she', 'together', 'at', 'thus', 'twenty', 'next', '‘ll', 'herself', 'put', 'became', 'his', 'move', 'name', '‘ve', 'done', 'such', 'when', 're', 'top', 'enough', 'within', 'somehow', 'herein', 'as', 'will', 'before', 'whereafter', 'all', 'amount', 'hereupon', 'part', 'something', 'me', 'well', 'off', 'in', 'they', 'get', 'rather', 'although', 'further', 'due', 'nevertheless', 'used', 'this', 'eight', 'make', 'why', 'namely', 'did', 'there', 'because'}\n"
     ]
    }
   ],
   "source": [
    "\n",
    "\n",
    "nlp = spacy.load(\"en_core_web_sm\")\n",
    "\n",
    "# Obtention des anciens stopwords\n",
    "old_stopwords = nlp.Defaults.stop_words\n",
    "\n",
    "# Création des nouveaux stopwords en supprimant les apostrophes\n",
    "new_stopwords = {word.replace(\"'\", \"\") for word in old_stopwords}\n",
    "\n",
    "# autre\n",
    "autre = {',', 't', 'feel', 'feeling', '`', 'little', 'bit'}\n",
    "# Union des anciens et nouveaux stopwords\n",
    "all_stopwords = old_stopwords.union(new_stopwords, autre)\n",
    "\n",
    "print(all_stopwords)\n"
   ]
  },
  {
   "attachments": {},
   "cell_type": "markdown",
   "metadata": {},
   "source": [
    "# <font color=\"green\">  5. Mots & sentiments  </font>"
   ]
  },
  {
   "cell_type": "code",
   "execution_count": 177,
   "metadata": {},
   "outputs": [],
   "source": [
    "sentiment_groups = df.groupby('Emotion')"
   ]
  },
  {
   "cell_type": "code",
   "execution_count": 178,
   "metadata": {},
   "outputs": [],
   "source": [
    "word_counts = {}\n",
    "\n",
    "for sentiment, group in sentiment_groups:\n",
    "    sentiment_words = []\n",
    "    \n",
    "    for text in group['Text']:\n",
    "        doc = nlp(text)\n",
    "        sentiment_words.extend([token.text.lower() for token in doc if token.text.lower() not in all_stopwords])\n",
    "        \n",
    "    word_counts[sentiment] = sentiment_words\n"
   ]
  },
  {
   "cell_type": "code",
   "execution_count": 179,
   "metadata": {},
   "outputs": [],
   "source": [
    "from collections import Counter\n",
    "\n",
    "top_n = 30\n",
    "\n",
    "top_words_per_sentiment = {}\n",
    "\n",
    "for sentiment, words in word_counts.items():\n",
    "    word_counter = Counter(words)\n",
    "    top_words = [word for word, count in word_counter.most_common(top_n)]\n",
    "    top_words_per_sentiment[sentiment] = top_words\n"
   ]
  },
  {
   "cell_type": "code",
   "execution_count": 180,
   "metadata": {},
   "outputs": [
    {
     "data": {
      "text/plain": [
       "{'anger': ['like',\n",
       "  'people',\n",
       "  'know',\n",
       "  'time',\n",
       "  'want',\n",
       "  'angry',\n",
       "  'think',\n",
       "  'things',\n",
       "  'way',\n",
       "  'don',\n",
       "  'offended',\n",
       "  'resentful',\n",
       "  'cold',\n",
       "  'irritable',\n",
       "  'going',\n",
       "  'bothered',\n",
       "  'greedy',\n",
       "  'life',\n",
       "  'mad',\n",
       "  'insulted',\n",
       "  'irritated',\n",
       "  'need',\n",
       "  'pissed',\n",
       "  'violent',\n",
       "  'annoyed',\n",
       "  'hated',\n",
       "  'dissatisfied',\n",
       "  'fucked',\n",
       "  'rude',\n",
       "  'right'],\n",
       " 'fear': ['like',\n",
       "  'know',\n",
       "  'anxious',\n",
       "  'time',\n",
       "  'people',\n",
       "  'nervous',\n",
       "  'want',\n",
       "  'strange',\n",
       "  'terrified',\n",
       "  'think',\n",
       "  'going',\n",
       "  'afraid',\n",
       "  'agitated',\n",
       "  'scared',\n",
       "  'frightened',\n",
       "  'weird',\n",
       "  'things',\n",
       "  'unsure',\n",
       "  'vulnerable',\n",
       "  'apprehensive',\n",
       "  'uncertain',\n",
       "  'overwhelmed',\n",
       "  'way',\n",
       "  'shaken',\n",
       "  'pressured',\n",
       "  'day',\n",
       "  'hesitant',\n",
       "  'reluctant',\n",
       "  'paranoid',\n",
       "  'intimidated'],\n",
       " 'happy': ['like',\n",
       "  'time',\n",
       "  'know',\n",
       "  'people',\n",
       "  'want',\n",
       "  'good',\n",
       "  'think',\n",
       "  'pretty',\n",
       "  'life',\n",
       "  'love',\n",
       "  'going',\n",
       "  'happy',\n",
       "  'day',\n",
       "  'things',\n",
       "  'way',\n",
       "  'need',\n",
       "  'work',\n",
       "  'right',\n",
       "  'today',\n",
       "  'don',\n",
       "  'excited',\n",
       "  'sure',\n",
       "  'feels',\n",
       "  'better',\n",
       "  'got',\n",
       "  'feelings',\n",
       "  'makes',\n",
       "  'help',\n",
       "  'look',\n",
       "  'new'],\n",
       " 'love': ['like',\n",
       "  'love',\n",
       "  'know',\n",
       "  'sweet',\n",
       "  'loving',\n",
       "  'time',\n",
       "  'want',\n",
       "  'people',\n",
       "  'caring',\n",
       "  'passionate',\n",
       "  'sympathetic',\n",
       "  'life',\n",
       "  'liked',\n",
       "  'hot',\n",
       "  'feelings',\n",
       "  'tender',\n",
       "  'lovely',\n",
       "  'longing',\n",
       "  'loved',\n",
       "  'need',\n",
       "  'accepted',\n",
       "  'nostalgic',\n",
       "  'gentle',\n",
       "  'horny',\n",
       "  'naughty',\n",
       "  'romantic',\n",
       "  'blessed',\n",
       "  'supporting',\n",
       "  'loyal',\n",
       "  'supportive'],\n",
       " 'sadness': ['like',\n",
       "  'know',\n",
       "  'time',\n",
       "  'want',\n",
       "  'life',\n",
       "  'people',\n",
       "  'think',\n",
       "  'things',\n",
       "  'day',\n",
       "  'going',\n",
       "  'way',\n",
       "  'don',\n",
       "  'pretty',\n",
       "  'right',\n",
       "  'love',\n",
       "  'felt',\n",
       "  'sad',\n",
       "  'feelings',\n",
       "  'bad',\n",
       "  'today',\n",
       "  'depressed',\n",
       "  'good',\n",
       "  'need',\n",
       "  'work',\n",
       "  'having',\n",
       "  'days',\n",
       "  'miserable',\n",
       "  'kind',\n",
       "  'lost',\n",
       "  'feels'],\n",
       " 'surprise': ['like',\n",
       "  'amazed',\n",
       "  'impressed',\n",
       "  'curious',\n",
       "  'overwhelmed',\n",
       "  'funny',\n",
       "  'surprised',\n",
       "  'weird',\n",
       "  'strange',\n",
       "  'amazing',\n",
       "  'shocked',\n",
       "  'time',\n",
       "  'stunned',\n",
       "  'dazed',\n",
       "  'people',\n",
       "  'know',\n",
       "  'think',\n",
       "  'feels',\n",
       "  'life',\n",
       "  'things',\n",
       "  'remember',\n",
       "  'way',\n",
       "  'looked',\n",
       "  'bewildered',\n",
       "  'going',\n",
       "  'want',\n",
       "  'actually',\n",
       "  'work',\n",
       "  'find',\n",
       "  'startled']}"
      ]
     },
     "execution_count": 180,
     "metadata": {},
     "output_type": "execute_result"
    }
   ],
   "source": [
    "top_words_per_sentiment"
   ]
  },
  {
   "attachments": {},
   "cell_type": "markdown",
   "metadata": {},
   "source": [
    " # <font color=\"green\">  5. Corrélations Sentiments  </font>"
   ]
  },
  {
   "cell_type": "code",
   "execution_count": 181,
   "metadata": {},
   "outputs": [],
   "source": [
    "sentiment_labels = list(top_words_per_sentiment.keys())"
   ]
  },
  {
   "cell_type": "code",
   "execution_count": 182,
   "metadata": {},
   "outputs": [
    {
     "data": {
      "image/png": "[encoded data removed]",
      "text/plain": [
       "<Figure size 800x600 with 2 Axes>"
      ]
     },
     "metadata": {},
     "output_type": "display_data"
    }
   ],
   "source": [
    "\n",
    "num_sentiments = len(top_words_per_sentiment)\n",
    "similarity_matrix = np.zeros((num_sentiments, num_sentiments))\n",
    "\n",
    "# Création d'un corpus de textes pour chaque sentiment\n",
    "corpus = [' '.join(top_words_per_sentiment[sentiment]) for sentiment in sentiment_labels]\n",
    "\n",
    "# Création d'un vectoriseur pour compter les fréquences des mots\n",
    "vectorizer = CountVectorizer()\n",
    "\n",
    "# Transformation du corpus en une matrice de fréquences des mots\n",
    "X = vectorizer.fit_transform(corpus)\n",
    "\n",
    "# Calcul de la similarité cosinus entre chaque paire de sentiments\n",
    "similarity_matrix = cosine_similarity(X)\n",
    "\n",
    "# Affichage de la matrice de similarité sous forme de heatmap\n",
    "plt.figure(figsize=(8, 6))\n",
    "sns.heatmap(similarity_matrix, annot=True, xticklabels=sentiment_labels, yticklabels=sentiment_labels, cmap='coolwarm')\n",
    "plt.xlabel('Sentiments')\n",
    "plt.ylabel('Sentiments')\n",
    "plt.title('Similarity Matrix of Sentiments')\n",
    "plt.show()\n"
   ]
  },
  {
   "attachments": {},
   "cell_type": "markdown",
   "metadata": {},
   "source": [
    "  # <font color=\"green\">  6. Bag of Words & TF-IDF  </font>"
   ]
  },
  {
   "cell_type": "code",
   "execution_count": 183,
   "metadata": {},
   "outputs": [
    {
     "name": "stdout",
     "output_type": "stream",
     "text": [
      "[[0 0 0 ... 0 0 0]\n",
      " [0 0 0 ... 0 0 0]\n",
      " [0 0 0 ... 0 0 0]\n",
      " ...\n",
      " [0 0 0 ... 0 0 0]\n",
      " [0 0 0 ... 0 0 0]\n",
      " [0 0 0 ... 0 0 0]]\n",
      "[[0. 0. 0. ... 0. 0. 0.]\n",
      " [0. 0. 0. ... 0. 0. 0.]\n",
      " [0. 0. 0. ... 0. 0. 0.]\n",
      " ...\n",
      " [0. 0. 0. ... 0. 0. 0.]\n",
      " [0. 0. 0. ... 0. 0. 0.]\n",
      " [0. 0. 0. ... 0. 0. 0.]]\n"
     ]
    }
   ],
   "source": [
    "# Fonction de prétraitement\n",
    "def preprocess_text(text):\n",
    "    # Prétraitement avec Spacy\n",
    "    doc = nlp(text)\n",
    "    \n",
    "    tokens = []\n",
    "    for token in doc:\n",
    "        # Ignorer la ponctuation et les espaces\n",
    "        if not token.is_punct and not token.is_space:\n",
    "            # Lemmatisation\n",
    "            lemma = token.lemma_\n",
    "            tokens.append(lemma)\n",
    "    \n",
    "    # Retourner le texte prétraité sous forme d'une chaîne de caractères\n",
    "    return ' '.join(tokens)\n",
    "\n",
    "# Prétraitement du DataFrame\n",
    "df['preprocessed_text'] = df['Text'].apply(preprocess_text)\n",
    "\n",
    "# Liste des stopwords\n",
    "stopwords_list = list(old_stopwords) + list(new_stopwords) + list(autre)\n",
    "\n",
    "# Création de la représentation Bag of Words\n",
    "vectorizer = CountVectorizer(stop_words = stopwords_list)\n",
    "bow_representation = vectorizer.fit_transform(df['preprocessed_text'].to_list())\n",
    "\n",
    "# Création de la représentation TF-IDF\n",
    "tfidf_vectorizer = TfidfVectorizer(stop_words = stopwords_list)\n",
    "tfidf_representation = tfidf_vectorizer.fit_transform(df['preprocessed_text'].to_list())\n",
    "\n",
    "# Exemple d'utilisation de la représentation Bag of Words\n",
    "print(bow_representation.toarray())\n",
    "\n",
    "# Exemple d'utilisation de la représentation TF-IDF\n",
    "print(tfidf_representation.toarray())"
   ]
  },
  {
   "cell_type": "code",
   "execution_count": 184,
   "metadata": {},
   "outputs": [],
   "source": [
    "#len(old_stopwords)+len(new_stopwords)+len(autre)\n"
   ]
  },
  {
   "cell_type": "code",
   "execution_count": 185,
   "metadata": {},
   "outputs": [],
   "source": [
    "#len(stopwords_list)"
   ]
  },
  {
   "cell_type": "code",
   "execution_count": 186,
   "metadata": {},
   "outputs": [],
   "source": [
    "#vectorizer"
   ]
  },
  {
   "cell_type": "code",
   "execution_count": 187,
   "metadata": {},
   "outputs": [],
   "source": [
    "#bow_representation"
   ]
  },
  {
   "cell_type": "code",
   "execution_count": 188,
   "metadata": {},
   "outputs": [],
   "source": [
    "def count_zeros(matrix):\n",
    "    count = 0\n",
    "    for row in matrix:\n",
    "        for element in row:\n",
    "            if element == 0:\n",
    "                count += 1\n",
    "    return count\n"
   ]
  },
  {
   "cell_type": "code",
   "execution_count": 189,
   "metadata": {},
   "outputs": [],
   "source": [
    "#count_zeros(bow_representation.toarray())\n"
   ]
  },
  {
   "cell_type": "code",
   "execution_count": 190,
   "metadata": {},
   "outputs": [],
   "source": [
    "#count_zeros(tfidf_representation.toarray())"
   ]
  },
  {
   "attachments": {},
   "cell_type": "markdown",
   "metadata": {},
   "source": [
    "# <font color=\"blue\"> 7. Modèle </font>   "
   ]
  },
  {
   "cell_type": "code",
   "execution_count": 191,
   "metadata": {},
   "outputs": [],
   "source": [
    "# Division des données en entraînement et en test\n",
    "X_train, X_test, y_train, y_test = train_test_split(tfidf_representation, df['Emotion'], test_size=0.2, random_state=42)"
   ]
  },
  {
   "cell_type": "code",
   "execution_count": 192,
   "metadata": {},
   "outputs": [
    {
     "name": "stdout",
     "output_type": "stream",
     "text": [
      "Accuracy: 0.8427306616961789\n"
     ]
    }
   ],
   "source": [
    "# Exemple d'utilisation d'un modèle de classification (SVM)\n",
    "svm_model = SVC(probability=True)\n",
    "svm_model.fit(X_train, y_train)\n",
    "predictions = svm_model.predict(X_test)\n",
    "accuracy = accuracy_score(y_test, predictions)\n",
    "print(\"Accuracy:\", accuracy)"
   ]
  },
  {
   "cell_type": "code",
   "execution_count": 193,
   "metadata": {},
   "outputs": [
    {
     "name": "stdout",
     "output_type": "stream",
     "text": [
      "Phrase: This movie is great!\n",
      "Emotion prédite: happy\n"
     ]
    }
   ],
   "source": [
    "# Exemple de prédiction d'une nouvelle phrase\n",
    "new_phrase = \"This movie is great!\"\n",
    "preprocessed_new_phrase = preprocess_text(new_phrase)\n",
    "tfidf_representation_new_phrase = tfidf_vectorizer.transform([preprocessed_new_phrase])\n",
    "prediction = svm_model.predict(tfidf_representation_new_phrase)\n",
    "\n",
    "print(\"Phrase:\", new_phrase)\n",
    "print(\"Emotion prédite:\", prediction[0]) "
   ]
  },
  {
   "attachments": {},
   "cell_type": "markdown",
   "metadata": {},
   "source": [
    "# <font color=\"blue\"> 8. Faker données ELasticsearch utilsant notre modèl</font>   "
   ]
  },
  {
   "cell_type": "code",
   "execution_count": 194,
   "metadata": {},
   "outputs": [],
   "source": [
    "fake = Faker()\n",
    "es = Elasticsearch([{'host': 'localhost', 'port': 9200, 'scheme': 'http'}])\n",
    "# vectorizer = TfidfVectorizer(stop_words='english')"
   ]
  },
  {
   "cell_type": "code",
   "execution_count": 195,
   "metadata": {},
   "outputs": [
    {
     "name": "stderr",
     "output_type": "stream",
     "text": [
      "/tmp/ipykernel_5413/888087167.py:28: DeprecationWarning: The 'body' parameter is deprecated and will be removed in a future version. Instead use the 'document' parameter. See https://github.com/elastic/elasticsearch-py/issues/1698 for more information\n",
      "  es.index(index='notes', body=document)\n",
      "/tmp/ipykernel_5413/888087167.py:28: ElasticsearchWarning: Elasticsearch built-in security features are not enabled. Without authentication, your cluster could be accessible to anyone. See https://www.elastic.co/guide/en/elasticsearch/reference/7.17/security-minimal-setup.html to enable security.\n",
      "  es.index(index='notes', body=document)\n"
     ]
    }
   ],
   "source": [
    "for _ in range(100):\n",
    "    # Générer des données Faker\n",
    "    patient_lastname = fake.last_name()\n",
    "    patient_firstname = fake.first_name()\n",
    "    text = fake.text()\n",
    "    date = fake.date()\n",
    "    \n",
    "    # Prétraiter le texte avec le modèle TF-IDF\n",
    "    preprocessed_text = preprocess_text(text)\n",
    "    tfidf_representation = tfidf_vectorizer.transform([preprocessed_text])\n",
    "    \n",
    "    # Prédire l'émotion et la confidence avec le modèle TF-IDF\n",
    "    emotion = svm_model.predict(tfidf_representation)[0]\n",
    "    confidence = svm_model.predict_proba(tfidf_representation)[0].max()\n",
    "    \n",
    "    # Construire le document Elasticsearch\n",
    "    document = {\n",
    "        'patient_lastname': patient_lastname,\n",
    "        'patient_firstname': patient_firstname,\n",
    "        'text': text,\n",
    "        'date': date,\n",
    "        'patient_left': fake.boolean(),\n",
    "        'emotion': emotion,\n",
    "        'confidence': confidence\n",
    "    }\n",
    "    \n",
    "    # Indexer le document dans Elasticsearch\n",
    "    es.index(index='notes', body=document)\n"
   ]
  },
  {
   "cell_type": "code",
   "execution_count": 196,
   "metadata": {},
   "outputs": [],
   "source": [
    "# terminal : curl http://localhost:9200/\n",
    "#======> pour visualiser l'index 'notes'\n",
    "# http://localhost:9200/notes\n",
    "#=======> pour voir les données fake\n",
    "# http://localhost:9200/notes/_search"
   ]
  }
 ],
 "metadata": {
  "kernelspec": {
   "display_name": "sklearn-env",
   "language": "python",
   "name": "python3"
  },
  "language_info": {
   "codemirror_mode": {
    "name": "ipython",
    "version": 3
   },
   "file_extension": ".py",
   "mimetype": "text/x-python",
   "name": "python",
   "nbconvert_exporter": "python",
   "pygments_lexer": "ipython3",
   "version": "3.11.3"
  },
  "orig_nbformat": 4
 },
 "nbformat": 4,
 "nbformat_minor": 2
}
