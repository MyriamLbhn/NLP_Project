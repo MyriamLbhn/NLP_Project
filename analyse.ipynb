{
 "cells": [
  {
   "attachments": {},
   "cell_type": "markdown",
   "metadata": {},
   "source": [
    "# <font color=\"green\">  1. Imports  </font>"
   ]
  },
  {
   "cell_type": "code",
   "execution_count": null,
   "metadata": {},
   "outputs": [],
   "source": [
    "import pandas as pd\n",
    "import spacy\n",
    "import matplotlib.pyplot as plt\n",
    "import seaborn as sns\n",
    "import numpy as np\n",
    "from sklearn.feature_extraction.text import CountVectorizer\n",
    "from sklearn.metrics.pairwise import cosine_similarity\n",
    "import spacy\n",
    "import pandas as pd\n",
    "from sklearn.feature_extraction.text import CountVectorizer, TfidfVectorizer\n",
    "from sklearn.model_selection import train_test_split\n",
    "from sklearn.svm import SVC\n",
    "from sklearn.metrics import accuracy_score"
   ]
  },
  {
   "attachments": {},
   "cell_type": "markdown",
   "metadata": {},
   "source": [
    "# <font color=\"blue\">  2. Data  </font>"
   ]
  },
  {
   "cell_type": "code",
   "execution_count": null,
   "metadata": {},
   "outputs": [],
   "source": [
    "df = pd.read_csv('data/Emotion_final_bronze.csv')"
   ]
  },
  {
   "attachments": {},
   "cell_type": "markdown",
   "metadata": {},
   "source": [
    "# <font color=\"red\">  3. Analyse </font>"
   ]
  },
  {
   "cell_type": "code",
   "execution_count": null,
   "metadata": {},
   "outputs": [],
   "source": [
    "df"
   ]
  },
  {
   "cell_type": "code",
   "execution_count": null,
   "metadata": {},
   "outputs": [],
   "source": [
    "df.Emotion.unique()"
   ]
  },
  {
   "cell_type": "code",
   "execution_count": null,
   "metadata": {},
   "outputs": [],
   "source": [
    "counts = df['Emotion'].value_counts()\n",
    "print(counts)\n",
    "\n"
   ]
  },
  {
   "cell_type": "code",
   "execution_count": null,
   "metadata": {},
   "outputs": [],
   "source": [
    "counts = df['Emotion'].value_counts()\n",
    "\n",
    "plt.bar(counts.index, counts.values)\n",
    "plt.xlabel('Émotion')\n",
    "plt.ylabel('Nombre de textes')\n",
    "plt.title('Répartition des textes par émotions')\n",
    "plt.show()\n"
   ]
  },
  {
   "attachments": {},
   "cell_type": "markdown",
   "metadata": {},
   "source": [
    "# <font color=\"red\">  4. Stopwords  </font>"
   ]
  },
  {
   "cell_type": "code",
   "execution_count": null,
   "metadata": {},
   "outputs": [],
   "source": [
    "nlp = spacy.load(\"en_core_web_sm\")\n",
    "stopwords = nlp.Defaults.stop_words\n",
    "len(stopwords)"
   ]
  },
  {
   "cell_type": "code",
   "execution_count": null,
   "metadata": {},
   "outputs": [],
   "source": [
    "\n",
    "\n",
    "nlp = spacy.load(\"en_core_web_sm\")\n",
    "\n",
    "# Obtention des anciens stopwords\n",
    "old_stopwords = nlp.Defaults.stop_words\n",
    "\n",
    "# Création des nouveaux stopwords en supprimant les apostrophes\n",
    "new_stopwords = {word.replace(\"'\", \"\") for word in old_stopwords}\n",
    "\n",
    "# autre\n",
    "autre = {',', 't', 'feel', 'feeling', '`', 'little', 'bit'}\n",
    "# Union des anciens et nouveaux stopwords\n",
    "all_stopwords = old_stopwords.union(new_stopwords, autre)\n",
    "\n",
    "print(all_stopwords)\n"
   ]
  },
  {
   "attachments": {},
   "cell_type": "markdown",
   "metadata": {},
   "source": [
    "# <font color=\"green\">  5. Mots & sentiments  </font>"
   ]
  },
  {
   "cell_type": "code",
   "execution_count": null,
   "metadata": {},
   "outputs": [],
   "source": [
    "sentiment_groups = df.groupby('Emotion')"
   ]
  },
  {
   "cell_type": "code",
   "execution_count": null,
   "metadata": {},
   "outputs": [],
   "source": [
    "word_counts = {}\n",
    "\n",
    "for sentiment, group in sentiment_groups:\n",
    "    sentiment_words = []\n",
    "    \n",
    "    for text in group['Text']:\n",
    "        doc = nlp(text)\n",
    "        sentiment_words.extend([token.text.lower() for token in doc if token.text.lower() not in all_stopwords])\n",
    "        \n",
    "    word_counts[sentiment] = sentiment_words\n"
   ]
  },
  {
   "cell_type": "code",
   "execution_count": null,
   "metadata": {},
   "outputs": [],
   "source": [
    "from collections import Counter\n",
    "\n",
    "top_n = 30\n",
    "\n",
    "top_words_per_sentiment = {}\n",
    "\n",
    "for sentiment, words in word_counts.items():\n",
    "    word_counter = Counter(words)\n",
    "    top_words = [word for word, count in word_counter.most_common(top_n)]\n",
    "    top_words_per_sentiment[sentiment] = top_words\n"
   ]
  },
  {
   "cell_type": "code",
   "execution_count": null,
   "metadata": {},
   "outputs": [],
   "source": [
    "top_words_per_sentiment"
   ]
  },
  {
   "attachments": {},
   "cell_type": "markdown",
   "metadata": {},
   "source": [
    " # <font color=\"green\">  5. Corrélations Sentiments  </font>"
   ]
  },
  {
   "cell_type": "code",
   "execution_count": null,
   "metadata": {},
   "outputs": [],
   "source": [
    "sentiment_labels = list(top_words_per_sentiment.keys())"
   ]
  },
  {
   "cell_type": "code",
   "execution_count": null,
   "metadata": {},
   "outputs": [],
   "source": [
    "\n",
    "num_sentiments = len(top_words_per_sentiment)\n",
    "similarity_matrix = np.zeros((num_sentiments, num_sentiments))\n",
    "\n",
    "# Création d'un corpus de textes pour chaque sentiment\n",
    "corpus = [' '.join(top_words_per_sentiment[sentiment]) for sentiment in sentiment_labels]\n",
    "\n",
    "# Création d'un vectoriseur pour compter les fréquences des mots\n",
    "vectorizer = CountVectorizer()\n",
    "\n",
    "# Transformation du corpus en une matrice de fréquences des mots\n",
    "X = vectorizer.fit_transform(corpus)\n",
    "\n",
    "# Calcul de la similarité cosinus entre chaque paire de sentiments\n",
    "similarity_matrix = cosine_similarity(X)\n",
    "\n",
    "# Affichage de la matrice de similarité sous forme de heatmap\n",
    "plt.figure(figsize=(8, 6))\n",
    "sns.heatmap(similarity_matrix, annot=True, xticklabels=sentiment_labels, yticklabels=sentiment_labels, cmap='coolwarm')\n",
    "plt.xlabel('Sentiments')\n",
    "plt.ylabel('Sentiments')\n",
    "plt.title('Similarity Matrix of Sentiments')\n",
    "plt.show()\n"
   ]
  },
  {
   "attachments": {},
   "cell_type": "markdown",
   "metadata": {},
   "source": [
    "  # <font color=\"green\">  6. Bag of Words & TF-IDF  </font>"
   ]
  },
  {
   "cell_type": "code",
   "execution_count": null,
   "metadata": {},
   "outputs": [],
   "source": [
    "# Fonction de prétraitement\n",
    "def preprocess_text(text):\n",
    "    # Prétraitement avec Spacy\n",
    "    doc = nlp(text)\n",
    "    \n",
    "    tokens = []\n",
    "    for token in doc:\n",
    "        # Ignorer la ponctuation et les espaces\n",
    "        if not token.is_punct and not token.is_space:\n",
    "            # Lemmatisation\n",
    "            lemma = token.lemma_\n",
    "            tokens.append(lemma)\n",
    "    \n",
    "    # Retourner le texte prétraité sous forme d'une chaîne de caractères\n",
    "    return ' '.join(tokens)\n",
    "\n",
    "# Prétraitement du DataFrame\n",
    "df['preprocessed_text'] = df['Text'].apply(preprocess_text)\n",
    "\n",
    "# Liste des stopwords\n",
    "stopwords_list = list(old_stopwords) + list(new_stopwords) + list(autre)\n",
    "\n",
    "# Création de la représentation Bag of Words\n",
    "vectorizer = CountVectorizer(stop_words = stopwords_list)\n",
    "bow_representation = vectorizer.fit_transform(df['preprocessed_text'].to_list())\n",
    "\n",
    "# Création de la représentation TF-IDF\n",
    "tfidf_vectorizer = TfidfVectorizer(stop_words = stopwords_list)\n",
    "tfidf_representation = tfidf_vectorizer.fit_transform(df['preprocessed_text'].to_list())\n",
    "\n",
    "# Exemple d'utilisation de la représentation Bag of Words\n",
    "print(bow_representation.toarray())\n",
    "\n",
    "# Exemple d'utilisation de la représentation TF-IDF\n",
    "print(tfidf_representation.toarray())"
   ]
  },
  {
   "cell_type": "code",
   "execution_count": null,
   "metadata": {},
   "outputs": [],
   "source": [
    "len(old_stopwords)+len(new_stopwords)+len(autre)\n"
   ]
  },
  {
   "cell_type": "code",
   "execution_count": null,
   "metadata": {},
   "outputs": [],
   "source": [
    "len(stopwords_list)"
   ]
  },
  {
   "cell_type": "code",
   "execution_count": null,
   "metadata": {},
   "outputs": [],
   "source": [
    "vectorizer"
   ]
  },
  {
   "cell_type": "code",
   "execution_count": null,
   "metadata": {},
   "outputs": [],
   "source": [
    "bow_representation"
   ]
  },
  {
   "cell_type": "code",
   "execution_count": null,
   "metadata": {},
   "outputs": [],
   "source": [
    "def count_zeros(matrix):\n",
    "    count = 0\n",
    "    for row in matrix:\n",
    "        for element in row:\n",
    "            if element == 0:\n",
    "                count += 1\n",
    "    return count\n"
   ]
  },
  {
   "cell_type": "code",
   "execution_count": null,
   "metadata": {},
   "outputs": [],
   "source": [
    "count_zeros(bow_representation.toarray())\n"
   ]
  },
  {
   "cell_type": "code",
   "execution_count": null,
   "metadata": {},
   "outputs": [],
   "source": [
    "count_zeros(tfidf_representation.toarray())"
   ]
  },
  {
   "attachments": {},
   "cell_type": "markdown",
   "metadata": {},
   "source": [
    "# <font color=\"blue\"> 7. Modéle </font>   "
   ]
  },
  {
   "cell_type": "code",
   "execution_count": null,
   "metadata": {},
   "outputs": [],
   "source": [
    "# Division des données en entraînement et en test\n",
    "X_train, X_test, y_train, y_test = train_test_split(tfidf_representation, df['Emotion'], test_size=0.2, random_state=42)\n",
    "\n",
    "# Exemple d'utilisation d'un modèle de classification (SVM)\n",
    "svm_model = SVC()\n",
    "svm_model.fit(X_train, y_train)\n",
    "predictions = svm_model.predict(X_test)\n",
    "accuracy = accuracy_score(y_test, predictions)\n",
    "print(\"Accuracy:\", accuracy)"
   ]
  },
  {
   "cell_type": "code",
   "execution_count": null,
   "metadata": {},
   "outputs": [],
   "source": [
    "# Exemple de prédiction d'une nouvelle phrase\n",
    "new_phrase = \"This movie is great!\"\n",
    "preprocessed_new_phrase = preprocess_text(new_phrase)\n",
    "tfidf_representation_new_phrase = tfidf_vectorizer.transform([preprocessed_new_phrase])\n",
    "prediction = svm_model.predict(tfidf_representation_new_phrase)\n",
    "\n",
    "print(\"Phrase:\", new_phrase)\n",
    "print(\"Emotion prédite:\", prediction[0]) "
   ]
  }
 ],
 "metadata": {
  "kernelspec": {
   "display_name": "sklearn-env",
   "language": "python",
   "name": "python3"
  },
  "language_info": {
   "codemirror_mode": {
    "name": "ipython",
    "version": 3
   },
   "file_extension": ".py",
   "mimetype": "text/x-python",
   "name": "python",
   "nbconvert_exporter": "python",
   "pygments_lexer": "ipython3",
   "version": "3.11.3"
  },
  "orig_nbformat": 4
 },
 "nbformat": 4,
 "nbformat_minor": 2
}
