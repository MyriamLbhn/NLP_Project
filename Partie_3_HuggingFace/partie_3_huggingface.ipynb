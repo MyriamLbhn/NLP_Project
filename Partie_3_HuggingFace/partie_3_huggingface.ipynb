{
 "cells": [
  {
   "attachments": {},
   "cell_type": "markdown",
   "metadata": {},
   "source": [
    "# Utilisation de Hugging Face"
   ]
  },
  {
   "attachments": {},
   "cell_type": "markdown",
   "metadata": {},
   "source": [
    "## Imports"
   ]
  },
  {
   "cell_type": "code",
   "execution_count": 8,
   "metadata": {},
   "outputs": [],
   "source": [
    "from transformers import pipeline\n",
    "import pandas as pd"
   ]
  },
  {
   "cell_type": "code",
   "execution_count": 9,
   "metadata": {},
   "outputs": [],
   "source": [
    "data = pd.read_csv(\"../Partie_1_Analyse/data/Emotion_final.csv\")"
   ]
  },
  {
   "attachments": {},
   "cell_type": "markdown",
   "metadata": {},
   "source": [
    "## Utilisation d'un modèle Hugging Face, entrainé et fine tuné"
   ]
  },
  {
   "cell_type": "code",
   "execution_count": 10,
   "metadata": {},
   "outputs": [],
   "source": [
    "classifier = pipeline(\"sentiment-analysis\", model=\"michellejieli/emotion_text_classifier\")"
   ]
  },
  {
   "attachments": {},
   "cell_type": "markdown",
   "metadata": {},
   "source": [
    "Test du modèle :"
   ]
  },
  {
   "cell_type": "code",
   "execution_count": 11,
   "metadata": {},
   "outputs": [
    {
     "data": {
      "text/plain": [
       "[{'label': 'sadness', 'score': 0.70632004737854}]"
      ]
     },
     "execution_count": 11,
     "metadata": {},
     "output_type": "execute_result"
    }
   ],
   "source": [
    "classifier(\"I am very late, I am sorry !\")"
   ]
  },
  {
   "attachments": {},
   "cell_type": "markdown",
   "metadata": {},
   "source": [
    "## Exportation du modèle"
   ]
  },
  {
   "cell_type": "code",
   "execution_count": 20,
   "metadata": {},
   "outputs": [
    {
     "name": "stdout",
     "output_type": "stream",
     "text": [
      "Text: i feel like that s so weird that i had cancer that one time\n",
      "Real emotion: surprise\n",
      "Predicted emotion: surprise\n",
      "Confidence score: 0.6283007264137268\n",
      "\n",
      "Text: i always feel so delighted to know that there are so many other people who are just as inspired and in love with the old fashioned graphics and illustrations as i am\n",
      "Real emotion: happy\n",
      "Predicted emotion: joy\n",
      "Confidence score: 0.9945119619369507\n",
      "\n",
      "Text: i cant help how i feel aside with a few like dick hobbs and rebecca mcpherson im not exactly a popular guy at school\n",
      "Real emotion: happy\n",
      "Predicted emotion: sadness\n",
      "Confidence score: 0.9317794442176819\n",
      "\n",
      "Text: i feel a lot of pressure but i am determined to finish them so that i can visit my sister in may with a clear conscience\n",
      "Real emotion: happy\n",
      "Predicted emotion: anger\n",
      "Confidence score: 0.5391624569892883\n",
      "\n",
      "Text: i was just ungrateful and selfish for wanting a life or wanting something more or at least feeling valued and respected\n",
      "Real emotion: happy\n",
      "Predicted emotion: anger\n",
      "Confidence score: 0.9067651033401489\n",
      "\n"
     ]
    }
   ],
   "source": [
    "# Sélectionner des lignes au hasard\n",
    "random_rows = data.sample(n=5)\n",
    "\n",
    "# Créer un classificateur d'émotions à partir du modèle michellejieli/emotion_text_classifier\n",
    "classifier = pipeline(\"sentiment-analysis\", model=\"michellejieli/emotion_text_classifier\")\n",
    "\n",
    "# Prédire les émotions pour chaque texte et comparer avec les émotions réelles\n",
    "for index, row in random_rows.iterrows():\n",
    "    text = row['Text']\n",
    "    real_emotion = row['Emotion']\n",
    "    result = classifier(text)\n",
    "    predicted_emotion = result[0]['label']\n",
    "    confidence_score = result[0]['score']\n",
    "    \n",
    "    print(f'Text: {text}')\n",
    "    print(f'Real emotion: {real_emotion}')\n",
    "    print(f'Predicted emotion: {predicted_emotion}')\n",
    "    print(f'Confidence score: {confidence_score}')\n",
    "    print()"
   ]
  }
 ],
 "metadata": {
  "kernelspec": {
   "display_name": "base",
   "language": "python",
   "name": "python3"
  },
  "language_info": {
   "codemirror_mode": {
    "name": "ipython",
    "version": 3
   },
   "file_extension": ".py",
   "mimetype": "text/x-python",
   "name": "python",
   "nbconvert_exporter": "python",
   "pygments_lexer": "ipython3",
   "version": "3.10.8"
  },
  "orig_nbformat": 4
 },
 "nbformat": 4,
 "nbformat_minor": 2
}
