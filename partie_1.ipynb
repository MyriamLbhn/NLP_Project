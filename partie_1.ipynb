{
 "cells": [
  {
   "attachments": {},
   "cell_type": "markdown",
   "metadata": {},
   "source": [
    "<div style=\"text-align:center; color:white; background-color:lightblue; padding:8px;\">\n",
    "    <h1>NLP Project - Analyse et modélisation</h1>\n",
    "</div>"
   ]
  },
  {
   "attachments": {},
   "cell_type": "markdown",
   "metadata": {},
   "source": [
    "## Imports"
   ]
  },
  {
   "cell_type": "code",
   "execution_count": 114,
   "metadata": {},
   "outputs": [],
   "source": [
    "import pandas as pd\t\n",
    "import string\n",
    "import spacy\n",
    "import re\n",
    "from collections import Counter\n",
    "import numpy as np\n",
    "import seaborn as sns\n",
    "import matplotlib.pyplot as plt\n",
    "from sklearn.feature_extraction.text import CountVectorizer, TfidfVectorizer\n",
    "from sklearn.model_selection import train_test_split\n",
    "from sklearn.svm import LinearSVC\n",
    "from sklearn.metrics import accuracy_score\n",
    "from sklearn.preprocessing import LabelEncoder\n",
    "from sklearn.linear_model import LogisticRegression\n",
    "from sklearn.naive_bayes import BernoulliNB\n",
    "import warnings\n",
    "warnings.filterwarnings(\"ignore\")"
   ]
  },
  {
   "cell_type": "code",
   "execution_count": 40,
   "metadata": {},
   "outputs": [],
   "source": [
    "df = pd.read_csv('data/Emotion_final_bronze.csv')"
   ]
  },
  {
   "attachments": {},
   "cell_type": "markdown",
   "metadata": {},
   "source": [
    "## Explorer les données"
   ]
  },
  {
   "attachments": {},
   "cell_type": "markdown",
   "metadata": {},
   "source": [
    "### Répartitions des textes par émotions"
   ]
  },
  {
   "cell_type": "code",
   "execution_count": 41,
   "metadata": {},
   "outputs": [
    {
     "name": "stdout",
     "output_type": "stream",
     "text": [
      "happy       7029\n",
      "sadness     6265\n",
      "anger       2993\n",
      "fear        2652\n",
      "love        1641\n",
      "surprise     879\n",
      "Name: Emotion, dtype: int64\n"
     ]
    }
   ],
   "source": [
    "emotions_count = df['Emotion'].value_counts()\n",
    "print(emotions_count)"
   ]
  },
  {
   "attachments": {},
   "cell_type": "markdown",
   "metadata": {},
   "source": [
    "### Affichage ponctuation et lettres isolées"
   ]
  },
  {
   "cell_type": "code",
   "execution_count": 42,
   "metadata": {},
   "outputs": [
    {
     "name": "stdout",
     "output_type": "stream",
     "text": [
      "Lettre : i, Occurrence : 32529\n",
      "Lettre : a, Occurrence : 8333\n",
      "Lettre : ,, Occurrence : 1338\n",
      "Lettre : t, Occurrence : 1175\n",
      "Lettre : s, Occurrence : 613\n",
      "Lettre : m, Occurrence : 575\n",
      "Lettre : `, Occurrence : 169\n",
      "Lettre : \", Occurrence : 97\n",
      "Lettre : d, Occurrence : 72\n",
      "Lettre : u, Occurrence : 39\n",
      "Lettre : b, Occurrence : 37\n",
      "Lettre : :, Occurrence : 36\n",
      "Lettre : ;, Occurrence : 36\n",
      "Lettre : f, Occurrence : 30\n",
      "Lettre : c, Occurrence : 25\n",
      "Lettre : e, Occurrence : 25\n",
      "Lettre : n, Occurrence : 22\n",
      "Lettre : w, Occurrence : 20\n",
      "Lettre : p, Occurrence : 20\n",
      "Lettre : h, Occurrence : 18\n",
      "Lettre : x, Occurrence : 17\n",
      "Lettre : ?, Occurrence : 16\n",
      "Lettre : r, Occurrence : 16\n",
      "Lettre : o, Occurrence : 16\n",
      "Lettre : ', Occurrence : 14\n",
      "Lettre : y, Occurrence : 9\n",
      "Lettre : k, Occurrence : 9\n",
      "Lettre : ), Occurrence : 8\n",
      "Lettre : (, Occurrence : 8\n",
      "Lettre : v, Occurrence : 8\n",
      "Lettre : !, Occurrence : 7\n",
      "Lettre : l, Occurrence : 7\n",
      "Lettre : g, Occurrence : 7\n",
      "Lettre : q, Occurrence : 4\n",
      "Lettre : j, Occurrence : 3\n",
      "Lettre : z, Occurrence : 3\n",
      "Lettre : 4, Occurrence : 2\n",
      "Lettre : 2, Occurrence : 1\n",
      "Lettre : 5, Occurrence : 1\n",
      "Lettre : &, Occurrence : 1\n",
      "Lettre : [, Occurrence : 1\n"
     ]
    }
   ],
   "source": [
    "# Créer une fonction pour compter les mots d'une seule lettre\n",
    "def count_single_letter_words(text):\n",
    "    # Séparer les mots en utilisant l'espace comme séparateur\n",
    "    words = text.split()\n",
    "    \n",
    "    # Filtrer les mots d'une seule lettre\n",
    "    single_letter_words = [word.lower() for word in words if len(word) == 1]\n",
    "    \n",
    "    # Retourner la liste des mots d'une seule lettre\n",
    "    return single_letter_words\n",
    "\n",
    "# Appliquer la fonction sur la colonne \"Texte\" pour obtenir les mots d'une seule lettre\n",
    "df['Single Letter Words'] = df['Text'].apply(count_single_letter_words)\n",
    "\n",
    "# Concaténer tous les mots d'une seule lettre dans une seule liste\n",
    "all_single_letter_words = [word for words in df['Single Letter Words'] for word in words]\n",
    "\n",
    "# Compter les occurrences des mots d'une seule lettre\n",
    "single_letter_counts = pd.Series(all_single_letter_words).value_counts()\n",
    "\n",
    "# Afficher le nombre d'occurrences et la lettre associée\n",
    "for index, count in single_letter_counts.items():\n",
    "    print(f\"Lettre : {index}, Occurrence : {count}\")\n",
    "    \n",
    "df = df.drop('Single Letter Words', axis=1)\n",
    "\n"
   ]
  },
  {
   "attachments": {},
   "cell_type": "markdown",
   "metadata": {},
   "source": [
    "## Tokenisation"
   ]
  },
  {
   "cell_type": "code",
   "execution_count": 43,
   "metadata": {},
   "outputs": [],
   "source": [
    "df['tokens'] = df['Text'].apply(lambda x: x.lower().split())"
   ]
  },
  {
   "cell_type": "code",
   "execution_count": 44,
   "metadata": {},
   "outputs": [
    {
     "data": {
      "text/html": [
       "<div>\n",
       "<style scoped>\n",
       "    .dataframe tbody tr th:only-of-type {\n",
       "        vertical-align: middle;\n",
       "    }\n",
       "\n",
       "    .dataframe tbody tr th {\n",
       "        vertical-align: top;\n",
       "    }\n",
       "\n",
       "    .dataframe thead th {\n",
       "        text-align: right;\n",
       "    }\n",
       "</style>\n",
       "<table border=\"1\" class=\"dataframe\">\n",
       "  <thead>\n",
       "    <tr style=\"text-align: right;\">\n",
       "      <th></th>\n",
       "      <th>Text</th>\n",
       "      <th>Emotion</th>\n",
       "      <th>tokens</th>\n",
       "    </tr>\n",
       "  </thead>\n",
       "  <tbody>\n",
       "    <tr>\n",
       "      <th>0</th>\n",
       "      <td>i didnt feel humiliated</td>\n",
       "      <td>sadness</td>\n",
       "      <td>[i, didnt, feel, humiliated]</td>\n",
       "    </tr>\n",
       "    <tr>\n",
       "      <th>1</th>\n",
       "      <td>i can go from feeling so hopeless to so damned...</td>\n",
       "      <td>sadness</td>\n",
       "      <td>[i, can, go, from, feeling, so, hopeless, to, ...</td>\n",
       "    </tr>\n",
       "    <tr>\n",
       "      <th>2</th>\n",
       "      <td>im grabbing a minute to post i feel greedy wrong</td>\n",
       "      <td>anger</td>\n",
       "      <td>[im, grabbing, a, minute, to, post, i, feel, g...</td>\n",
       "    </tr>\n",
       "    <tr>\n",
       "      <th>3</th>\n",
       "      <td>i am ever feeling nostalgic about the fireplac...</td>\n",
       "      <td>love</td>\n",
       "      <td>[i, am, ever, feeling, nostalgic, about, the, ...</td>\n",
       "    </tr>\n",
       "    <tr>\n",
       "      <th>4</th>\n",
       "      <td>i am feeling grouchy</td>\n",
       "      <td>anger</td>\n",
       "      <td>[i, am, feeling, grouchy]</td>\n",
       "    </tr>\n",
       "  </tbody>\n",
       "</table>\n",
       "</div>"
      ],
      "text/plain": [
       "                                                Text  Emotion  \\\n",
       "0                            i didnt feel humiliated  sadness   \n",
       "1  i can go from feeling so hopeless to so damned...  sadness   \n",
       "2   im grabbing a minute to post i feel greedy wrong    anger   \n",
       "3  i am ever feeling nostalgic about the fireplac...     love   \n",
       "4                               i am feeling grouchy    anger   \n",
       "\n",
       "                                              tokens  \n",
       "0                       [i, didnt, feel, humiliated]  \n",
       "1  [i, can, go, from, feeling, so, hopeless, to, ...  \n",
       "2  [im, grabbing, a, minute, to, post, i, feel, g...  \n",
       "3  [i, am, ever, feeling, nostalgic, about, the, ...  \n",
       "4                          [i, am, feeling, grouchy]  "
      ]
     },
     "execution_count": 44,
     "metadata": {},
     "output_type": "execute_result"
    }
   ],
   "source": [
    "df.head()"
   ]
  },
  {
   "attachments": {},
   "cell_type": "markdown",
   "metadata": {},
   "source": [
    "## Suppression des stopwords"
   ]
  },
  {
   "cell_type": "code",
   "execution_count": 45,
   "metadata": {},
   "outputs": [],
   "source": [
    "nlp = spacy.load('en_core_web_sm')\n",
    "stop_words = spacy.lang.en.stop_words.STOP_WORDS\n",
    "df['tokens'] = df['tokens'].apply(lambda x: [word for word in x if word not in stop_words])"
   ]
  },
  {
   "attachments": {},
   "cell_type": "markdown",
   "metadata": {},
   "source": [
    "## Suppression de la ponctuation et des lettres isolées"
   ]
  },
  {
   "cell_type": "code",
   "execution_count": 46,
   "metadata": {},
   "outputs": [],
   "source": [
    "# Supprimer les mots d'une lettre\n",
    "df['tokens'] = df['tokens'].apply(lambda x: [word for word in x if len(word) > 1])\n",
    "\n",
    "# Supprimer la ponctuation\n",
    "punctuation = string.punctuation\n",
    "df['tokens'] = df['tokens'].apply(lambda x: [word for word in x if word not in punctuation])"
   ]
  },
  {
   "attachments": {},
   "cell_type": "markdown",
   "metadata": {},
   "source": [
    "## Supression des émojis"
   ]
  },
  {
   "cell_type": "code",
   "execution_count": 47,
   "metadata": {},
   "outputs": [],
   "source": [
    "# Définir une fonction pour supprimer les émojis\n",
    "def remove_emojis(text):\n",
    "    emoji_pattern = re.compile(\"[\"\n",
    "        u\"\\U0001F600-\\U0001F64F\"  # emoticons\n",
    "        u\"\\U0001F300-\\U0001F5FF\"  # symboles et pictogrammes\n",
    "        u\"\\U0001F680-\\U0001F6FF\"  # transports et symboles de signalisation\n",
    "        u\"\\U0001F1E0-\\U0001F1FF\"  # drapeaux (unicode drapeaux)\n",
    "                           \"]+\", flags=re.UNICODE)\n",
    "    return emoji_pattern.sub(r'', text)\n",
    "\n",
    "# Supprimer les émojis des tokens\n",
    "df['tokens'] = df['tokens'].apply(lambda x: [remove_emojis(word) for word in x])"
   ]
  },
  {
   "attachments": {},
   "cell_type": "markdown",
   "metadata": {},
   "source": [
    "## Suppression des nombres"
   ]
  },
  {
   "cell_type": "code",
   "execution_count": 48,
   "metadata": {},
   "outputs": [],
   "source": [
    "df['tokens'] = df['tokens'].apply(lambda tokens: [token for token in tokens if not re.match(r'^\\d+$', token)])"
   ]
  },
  {
   "attachments": {},
   "cell_type": "markdown",
   "metadata": {},
   "source": [
    "## Suppression des autres mots qui n'apportent pas d'informations"
   ]
  },
  {
   "cell_type": "code",
   "execution_count": 49,
   "metadata": {},
   "outputs": [],
   "source": [
    "words_to_remove = ['feel', 'feeling', 'feelings', 'im', 'ive', 'get', 'got', 'do']\n",
    "df['tokens'] = df['tokens'].apply(lambda x: [word for word in x if word not in words_to_remove])"
   ]
  },
  {
   "cell_type": "code",
   "execution_count": 50,
   "metadata": {},
   "outputs": [],
   "source": [
    "df['tokens'] = df['tokens'].apply(lambda x: [token if token != 'don' else 'dont' for token in x])"
   ]
  },
  {
   "attachments": {},
   "cell_type": "markdown",
   "metadata": {},
   "source": [
    "## Identification des 30 mots les plus courants pour chaque sentiment"
   ]
  },
  {
   "cell_type": "code",
   "execution_count": 51,
   "metadata": {},
   "outputs": [
    {
     "data": {
      "text/html": [
       "<div>\n",
       "<style scoped>\n",
       "    .dataframe tbody tr th:only-of-type {\n",
       "        vertical-align: middle;\n",
       "    }\n",
       "\n",
       "    .dataframe tbody tr th {\n",
       "        vertical-align: top;\n",
       "    }\n",
       "\n",
       "    .dataframe thead th {\n",
       "        text-align: right;\n",
       "    }\n",
       "</style>\n",
       "<table border=\"1\" class=\"dataframe\">\n",
       "  <thead>\n",
       "    <tr style=\"text-align: right;\">\n",
       "      <th></th>\n",
       "      <th>sadness</th>\n",
       "      <th>anger</th>\n",
       "      <th>love</th>\n",
       "      <th>surprise</th>\n",
       "      <th>fear</th>\n",
       "      <th>happy</th>\n",
       "    </tr>\n",
       "  </thead>\n",
       "  <tbody>\n",
       "    <tr>\n",
       "      <th>0</th>\n",
       "      <td>(like, 1078)</td>\n",
       "      <td>(like, 479)</td>\n",
       "      <td>(like, 393)</td>\n",
       "      <td>(like, 121)</td>\n",
       "      <td>(like, 322)</td>\n",
       "      <td>(like, 1266)</td>\n",
       "    </tr>\n",
       "    <tr>\n",
       "      <th>1</th>\n",
       "      <td>(dont, 345)</td>\n",
       "      <td>(dont, 184)</td>\n",
       "      <td>(love, 119)</td>\n",
       "      <td>(amazed, 83)</td>\n",
       "      <td>(little, 194)</td>\n",
       "      <td>(time, 370)</td>\n",
       "    </tr>\n",
       "    <tr>\n",
       "      <th>2</th>\n",
       "      <td>(know, 344)</td>\n",
       "      <td>(people, 150)</td>\n",
       "      <td>(know, 101)</td>\n",
       "      <td>(impressed, 72)</td>\n",
       "      <td>(bit, 143)</td>\n",
       "      <td>(dont, 330)</td>\n",
       "    </tr>\n",
       "    <tr>\n",
       "      <th>3</th>\n",
       "      <td>(time, 270)</td>\n",
       "      <td>(know, 149)</td>\n",
       "      <td>(dont, 87)</td>\n",
       "      <td>(curious, 72)</td>\n",
       "      <td>(know, 139)</td>\n",
       "      <td>(know, 323)</td>\n",
       "    </tr>\n",
       "    <tr>\n",
       "      <th>4</th>\n",
       "      <td>(little, 267)</td>\n",
       "      <td>(time, 146)</td>\n",
       "      <td>(sweet, 84)</td>\n",
       "      <td>(overwhelmed, 69)</td>\n",
       "      <td>(anxious, 126)</td>\n",
       "      <td>(people, 266)</td>\n",
       "    </tr>\n",
       "    <tr>\n",
       "      <th>5</th>\n",
       "      <td>(want, 237)</td>\n",
       "      <td>(little, 136)</td>\n",
       "      <td>(loving, 82)</td>\n",
       "      <td>(funny, 68)</td>\n",
       "      <td>(dont, 125)</td>\n",
       "      <td>(want, 250)</td>\n",
       "    </tr>\n",
       "    <tr>\n",
       "      <th>6</th>\n",
       "      <td>(life, 228)</td>\n",
       "      <td>(want, 129)</td>\n",
       "      <td>(time, 82)</td>\n",
       "      <td>(surprised, 68)</td>\n",
       "      <td>(time, 119)</td>\n",
       "      <td>(good, 246)</td>\n",
       "    </tr>\n",
       "    <tr>\n",
       "      <th>7</th>\n",
       "      <td>(people, 226)</td>\n",
       "      <td>(angry, 116)</td>\n",
       "      <td>(want, 80)</td>\n",
       "      <td>(weird, 67)</td>\n",
       "      <td>(people, 106)</td>\n",
       "      <td>(little, 240)</td>\n",
       "    </tr>\n",
       "    <tr>\n",
       "      <th>8</th>\n",
       "      <td>(think, 222)</td>\n",
       "      <td>(think, 111)</td>\n",
       "      <td>(people, 80)</td>\n",
       "      <td>(strange, 60)</td>\n",
       "      <td>(nervous, 103)</td>\n",
       "      <td>(think, 239)</td>\n",
       "    </tr>\n",
       "    <tr>\n",
       "      <th>9</th>\n",
       "      <td>(bit, 220)</td>\n",
       "      <td>(things, 105)</td>\n",
       "      <td>(caring, 78)</td>\n",
       "      <td>(amazing, 56)</td>\n",
       "      <td>(want, 95)</td>\n",
       "      <td>(pretty, 236)</td>\n",
       "    </tr>\n",
       "    <tr>\n",
       "      <th>10</th>\n",
       "      <td>(things, 194)</td>\n",
       "      <td>(bit, 103)</td>\n",
       "      <td>(passionate, 75)</td>\n",
       "      <td>(little, 56)</td>\n",
       "      <td>(strange, 92)</td>\n",
       "      <td>(life, 235)</td>\n",
       "    </tr>\n",
       "    <tr>\n",
       "      <th>11</th>\n",
       "      <td>(day, 177)</td>\n",
       "      <td>(way, 102)</td>\n",
       "      <td>(sympathetic, 72)</td>\n",
       "      <td>(shocked, 54)</td>\n",
       "      <td>(terrified, 89)</td>\n",
       "      <td>(love, 231)</td>\n",
       "    </tr>\n",
       "    <tr>\n",
       "      <th>12</th>\n",
       "      <td>(going, 164)</td>\n",
       "      <td>(offended, 92)</td>\n",
       "      <td>(life, 71)</td>\n",
       "      <td>(time, 44)</td>\n",
       "      <td>(think, 89)</td>\n",
       "      <td>(going, 219)</td>\n",
       "    </tr>\n",
       "    <tr>\n",
       "      <th>13</th>\n",
       "      <td>(way, 162)</td>\n",
       "      <td>(resentful, 87)</td>\n",
       "      <td>(liked, 70)</td>\n",
       "      <td>(stunned, 43)</td>\n",
       "      <td>(going, 89)</td>\n",
       "      <td>(happy, 212)</td>\n",
       "    </tr>\n",
       "    <tr>\n",
       "      <th>14</th>\n",
       "      <td>(pretty, 146)</td>\n",
       "      <td>(cold, 86)</td>\n",
       "      <td>(hot, 68)</td>\n",
       "      <td>(dazed, 43)</td>\n",
       "      <td>(afraid, 85)</td>\n",
       "      <td>(day, 206)</td>\n",
       "    </tr>\n",
       "    <tr>\n",
       "      <th>15</th>\n",
       "      <td>(right, 143)</td>\n",
       "      <td>(irritable, 84)</td>\n",
       "      <td>(little, 67)</td>\n",
       "      <td>(bit, 40)</td>\n",
       "      <td>(agitated, 84)</td>\n",
       "      <td>(things, 180)</td>\n",
       "    </tr>\n",
       "    <tr>\n",
       "      <th>16</th>\n",
       "      <td>(love, 138)</td>\n",
       "      <td>(cant, 83)</td>\n",
       "      <td>(tender, 64)</td>\n",
       "      <td>(people, 37)</td>\n",
       "      <td>(scared, 83)</td>\n",
       "      <td>(way, 180)</td>\n",
       "    </tr>\n",
       "    <tr>\n",
       "      <th>17</th>\n",
       "      <td>(felt, 136)</td>\n",
       "      <td>(going, 81)</td>\n",
       "      <td>(lovely, 63)</td>\n",
       "      <td>(know, 35)</td>\n",
       "      <td>(frightened, 82)</td>\n",
       "      <td>(need, 168)</td>\n",
       "    </tr>\n",
       "    <tr>\n",
       "      <th>18</th>\n",
       "      <td>(cant, 132)</td>\n",
       "      <td>(bothered, 81)</td>\n",
       "      <td>(longing, 63)</td>\n",
       "      <td>(dont, 34)</td>\n",
       "      <td>(weird, 79)</td>\n",
       "      <td>(work, 158)</td>\n",
       "    </tr>\n",
       "    <tr>\n",
       "      <th>19</th>\n",
       "      <td>(sad, 130)</td>\n",
       "      <td>(greedy, 77)</td>\n",
       "      <td>(loved, 62)</td>\n",
       "      <td>(think, 33)</td>\n",
       "      <td>(things, 77)</td>\n",
       "      <td>(right, 154)</td>\n",
       "    </tr>\n",
       "    <tr>\n",
       "      <th>20</th>\n",
       "      <td>(bad, 126)</td>\n",
       "      <td>(life, 74)</td>\n",
       "      <td>(need, 61)</td>\n",
       "      <td>(feels, 30)</td>\n",
       "      <td>(unsure, 75)</td>\n",
       "      <td>(today, 153)</td>\n",
       "    </tr>\n",
       "    <tr>\n",
       "      <th>21</th>\n",
       "      <td>(today, 125)</td>\n",
       "      <td>(mad, 74)</td>\n",
       "      <td>(accepted, 60)</td>\n",
       "      <td>(life, 26)</td>\n",
       "      <td>(vulnerable, 75)</td>\n",
       "      <td>(sure, 144)</td>\n",
       "    </tr>\n",
       "    <tr>\n",
       "      <th>22</th>\n",
       "      <td>(depressed, 123)</td>\n",
       "      <td>(insulted, 73)</td>\n",
       "      <td>(nostalgic, 59)</td>\n",
       "      <td>(things, 26)</td>\n",
       "      <td>(apprehensive, 74)</td>\n",
       "      <td>(excited, 144)</td>\n",
       "    </tr>\n",
       "    <tr>\n",
       "      <th>23</th>\n",
       "      <td>(need, 121)</td>\n",
       "      <td>(irritated, 72)</td>\n",
       "      <td>(gentle, 59)</td>\n",
       "      <td>(remember, 26)</td>\n",
       "      <td>(uncertain, 74)</td>\n",
       "      <td>(feels, 133)</td>\n",
       "    </tr>\n",
       "    <tr>\n",
       "      <th>24</th>\n",
       "      <td>(work, 121)</td>\n",
       "      <td>(need, 71)</td>\n",
       "      <td>(horny, 59)</td>\n",
       "      <td>(way, 24)</td>\n",
       "      <td>(overwhelmed, 73)</td>\n",
       "      <td>(better, 132)</td>\n",
       "    </tr>\n",
       "    <tr>\n",
       "      <th>25</th>\n",
       "      <td>(good, 121)</td>\n",
       "      <td>(pissed, 71)</td>\n",
       "      <td>(naughty, 58)</td>\n",
       "      <td>(looked, 24)</td>\n",
       "      <td>(way, 73)</td>\n",
       "      <td>(makes, 116)</td>\n",
       "    </tr>\n",
       "    <tr>\n",
       "      <th>26</th>\n",
       "      <td>(didnt, 112)</td>\n",
       "      <td>(violent, 70)</td>\n",
       "      <td>(romantic, 56)</td>\n",
       "      <td>(bewildered, 24)</td>\n",
       "      <td>(shaken, 71)</td>\n",
       "      <td>(help, 113)</td>\n",
       "    </tr>\n",
       "    <tr>\n",
       "      <th>27</th>\n",
       "      <td>(having, 110)</td>\n",
       "      <td>(annoyed, 70)</td>\n",
       "      <td>(blessed, 56)</td>\n",
       "      <td>(going, 21)</td>\n",
       "      <td>(pressured, 68)</td>\n",
       "      <td>(look, 111)</td>\n",
       "    </tr>\n",
       "    <tr>\n",
       "      <th>28</th>\n",
       "      <td>(days, 110)</td>\n",
       "      <td>(hated, 70)</td>\n",
       "      <td>(supporting, 56)</td>\n",
       "      <td>(want, 20)</td>\n",
       "      <td>(day, 67)</td>\n",
       "      <td>(new, 108)</td>\n",
       "    </tr>\n",
       "    <tr>\n",
       "      <th>29</th>\n",
       "      <td>(miserable, 108)</td>\n",
       "      <td>(dissatisfied, 68)</td>\n",
       "      <td>(loyal, 56)</td>\n",
       "      <td>(actually, 20)</td>\n",
       "      <td>(hesitant, 66)</td>\n",
       "      <td>(bit, 106)</td>\n",
       "    </tr>\n",
       "  </tbody>\n",
       "</table>\n",
       "</div>"
      ],
      "text/plain": [
       "             sadness               anger               love  \\\n",
       "0       (like, 1078)         (like, 479)        (like, 393)   \n",
       "1        (dont, 345)         (dont, 184)        (love, 119)   \n",
       "2        (know, 344)       (people, 150)        (know, 101)   \n",
       "3        (time, 270)         (know, 149)         (dont, 87)   \n",
       "4      (little, 267)         (time, 146)        (sweet, 84)   \n",
       "5        (want, 237)       (little, 136)       (loving, 82)   \n",
       "6        (life, 228)         (want, 129)         (time, 82)   \n",
       "7      (people, 226)        (angry, 116)         (want, 80)   \n",
       "8       (think, 222)        (think, 111)       (people, 80)   \n",
       "9         (bit, 220)       (things, 105)       (caring, 78)   \n",
       "10     (things, 194)          (bit, 103)   (passionate, 75)   \n",
       "11        (day, 177)          (way, 102)  (sympathetic, 72)   \n",
       "12      (going, 164)      (offended, 92)         (life, 71)   \n",
       "13        (way, 162)     (resentful, 87)        (liked, 70)   \n",
       "14     (pretty, 146)          (cold, 86)          (hot, 68)   \n",
       "15      (right, 143)     (irritable, 84)       (little, 67)   \n",
       "16       (love, 138)          (cant, 83)       (tender, 64)   \n",
       "17       (felt, 136)         (going, 81)       (lovely, 63)   \n",
       "18       (cant, 132)      (bothered, 81)      (longing, 63)   \n",
       "19        (sad, 130)        (greedy, 77)        (loved, 62)   \n",
       "20        (bad, 126)          (life, 74)         (need, 61)   \n",
       "21      (today, 125)           (mad, 74)     (accepted, 60)   \n",
       "22  (depressed, 123)      (insulted, 73)    (nostalgic, 59)   \n",
       "23       (need, 121)     (irritated, 72)       (gentle, 59)   \n",
       "24       (work, 121)          (need, 71)        (horny, 59)   \n",
       "25       (good, 121)        (pissed, 71)      (naughty, 58)   \n",
       "26      (didnt, 112)       (violent, 70)     (romantic, 56)   \n",
       "27     (having, 110)       (annoyed, 70)      (blessed, 56)   \n",
       "28       (days, 110)         (hated, 70)   (supporting, 56)   \n",
       "29  (miserable, 108)  (dissatisfied, 68)        (loyal, 56)   \n",
       "\n",
       "             surprise                fear           happy  \n",
       "0         (like, 121)         (like, 322)    (like, 1266)  \n",
       "1        (amazed, 83)       (little, 194)     (time, 370)  \n",
       "2     (impressed, 72)          (bit, 143)     (dont, 330)  \n",
       "3       (curious, 72)         (know, 139)     (know, 323)  \n",
       "4   (overwhelmed, 69)      (anxious, 126)   (people, 266)  \n",
       "5         (funny, 68)         (dont, 125)     (want, 250)  \n",
       "6     (surprised, 68)         (time, 119)     (good, 246)  \n",
       "7         (weird, 67)       (people, 106)   (little, 240)  \n",
       "8       (strange, 60)      (nervous, 103)    (think, 239)  \n",
       "9       (amazing, 56)          (want, 95)   (pretty, 236)  \n",
       "10       (little, 56)       (strange, 92)     (life, 235)  \n",
       "11      (shocked, 54)     (terrified, 89)     (love, 231)  \n",
       "12         (time, 44)         (think, 89)    (going, 219)  \n",
       "13      (stunned, 43)         (going, 89)    (happy, 212)  \n",
       "14        (dazed, 43)        (afraid, 85)      (day, 206)  \n",
       "15          (bit, 40)      (agitated, 84)   (things, 180)  \n",
       "16       (people, 37)        (scared, 83)      (way, 180)  \n",
       "17         (know, 35)    (frightened, 82)     (need, 168)  \n",
       "18         (dont, 34)         (weird, 79)     (work, 158)  \n",
       "19        (think, 33)        (things, 77)    (right, 154)  \n",
       "20        (feels, 30)        (unsure, 75)    (today, 153)  \n",
       "21         (life, 26)    (vulnerable, 75)     (sure, 144)  \n",
       "22       (things, 26)  (apprehensive, 74)  (excited, 144)  \n",
       "23     (remember, 26)     (uncertain, 74)    (feels, 133)  \n",
       "24          (way, 24)   (overwhelmed, 73)   (better, 132)  \n",
       "25       (looked, 24)           (way, 73)    (makes, 116)  \n",
       "26   (bewildered, 24)        (shaken, 71)     (help, 113)  \n",
       "27        (going, 21)     (pressured, 68)     (look, 111)  \n",
       "28         (want, 20)           (day, 67)      (new, 108)  \n",
       "29     (actually, 20)      (hesitant, 66)      (bit, 106)  "
      ]
     },
     "execution_count": 51,
     "metadata": {},
     "output_type": "execute_result"
    }
   ],
   "source": [
    "# Créer un dictionnaire pour stocker les mots les plus courants par émotion\n",
    "common_words_by_emotion = {}\n",
    "\n",
    "# Parcourir chaque émotion unique\n",
    "for emotion in df['Emotion'].unique():\n",
    "    # Filtrer les lignes par émotion\n",
    "    emotion_df = df[df['Emotion'] == emotion]\n",
    "    \n",
    "    # Concaténer les listes de tokens\n",
    "    all_tokens = [token for tokens in emotion_df['tokens'] for token in tokens]\n",
    "    \n",
    "    # Compter les occurrences des mots\n",
    "    word_counts = Counter(all_tokens)\n",
    "    \n",
    "    # Sélectionner les 30 mots les plus courants\n",
    "    common_words = word_counts.most_common(30)\n",
    "    \n",
    "    # Ajouter les mots courants au dictionnaire par émotion\n",
    "    common_words_by_emotion[emotion] = common_words\n",
    "    \n",
    "df_common_words = pd.DataFrame.from_dict(common_words_by_emotion, orient='index')\n",
    "df_common_words = df_common_words.transpose()\n",
    "\n",
    "df_common_words.head(31)\n"
   ]
  },
  {
   "attachments": {},
   "cell_type": "markdown",
   "metadata": {},
   "source": [
    "## Heatmap"
   ]
  },
  {
   "cell_type": "code",
   "execution_count": 52,
   "metadata": {},
   "outputs": [
    {
     "data": {
      "image/png": "[encoded data removed]",
      "text/plain": [
       "<Figure size 800x600 with 2 Axes>"
      ]
     },
     "metadata": {},
     "output_type": "display_data"
    }
   ],
   "source": [
    "# Création de la matrice de similarité cosinus\n",
    "emotions = list(common_words_by_emotion.keys())\n",
    "num_emotions = len(emotions)\n",
    "similarity_matrix = np.zeros((num_emotions, num_emotions))\n",
    "\n",
    "for i in range(num_emotions):\n",
    "    for j in range(num_emotions):\n",
    "        emotion1 = emotions[i]\n",
    "        emotion2 = emotions[j]\n",
    "        \n",
    "        words1 = [word[0] for word in common_words_by_emotion[emotion1]]\n",
    "        words2 = [word[0] for word in common_words_by_emotion[emotion2]]\n",
    "        \n",
    "        word_intersection = set(words1) & set(words2)\n",
    "        word_union = set(words1) | set(words2)\n",
    "        \n",
    "        similarity = len(word_intersection) / len(word_union)\n",
    "        similarity_matrix[i, j] = similarity\n",
    "\n",
    "# Création de la heatmap\n",
    "plt.figure(figsize=(8, 6))\n",
    "sns.heatmap(similarity_matrix, annot=True, fmt=\".2f\", xticklabels=emotions, yticklabels=emotions, cmap='coolwarm')\n",
    "plt.xlabel('Emotions')\n",
    "plt.ylabel('Emotions')\n",
    "plt.title('Similarity Matrix')\n",
    "plt.show()\n"
   ]
  },
  {
   "attachments": {},
   "cell_type": "markdown",
   "metadata": {},
   "source": [
    "## Preprocessing complet"
   ]
  },
  {
   "cell_type": "code",
   "execution_count": 82,
   "metadata": {},
   "outputs": [],
   "source": [
    "df_2 = pd.read_csv('data/Emotion_final_bronze.csv')"
   ]
  },
  {
   "cell_type": "code",
   "execution_count": 83,
   "metadata": {},
   "outputs": [],
   "source": [
    "personnalized_stopwords = ['feel', 'feeling','feelings', 'like','im','really', 'today','didnt','go', 'know', 'get', 'want', 'would', 'time', 'little', 'ive', 'still', 'even', 'one',  'people', 'think', 'bit', 'things', 'much', 'dont', 'make', 'day', 'something', 'back', 'going', 'way', 'could']"
   ]
  },
  {
   "cell_type": "code",
   "execution_count": 84,
   "metadata": {},
   "outputs": [],
   "source": [
    "def preprocess(text):\n",
    "    doc = nlp(text)\n",
    "    tokens = [token.lemma_ for token in doc]\n",
    "    filtered_tokens = [token for token in tokens if not (nlp.vocab[token].is_punct or nlp.vocab[token].is_stop or len(token) < 3 or token.isnumeric() or token.isspace() or token.lower() in personnalized_stopwords)]    \n",
    "    return ' '.join(filtered_tokens)"
   ]
  },
  {
   "cell_type": "code",
   "execution_count": 85,
   "metadata": {},
   "outputs": [],
   "source": [
    "corpus = df_2['Text'].tolist()\n",
    "corpus = [preprocess(text) for text in corpus]"
   ]
  },
  {
   "attachments": {},
   "cell_type": "markdown",
   "metadata": {},
   "source": [
    "### Bag of words"
   ]
  },
  {
   "cell_type": "code",
   "execution_count": 86,
   "metadata": {},
   "outputs": [
    {
     "name": "stdout",
     "output_type": "stream",
     "text": [
      "['000' '12' '1997' ... 'zum' 'zumba' 'zzap']\n",
      "[[0 0 0 ... 0 0 0]\n",
      " [0 0 0 ... 0 0 0]\n",
      " [0 0 0 ... 0 0 0]\n",
      " ...\n",
      " [0 0 0 ... 0 0 0]\n",
      " [0 0 0 ... 0 0 0]\n",
      " [0 0 0 ... 0 0 0]]\n"
     ]
    }
   ],
   "source": [
    "vectorizer = CountVectorizer()\n",
    "X = vectorizer.fit_transform(corpus)\n",
    "print(vectorizer.get_feature_names_out())\n",
    "print(X.toarray())"
   ]
  },
  {
   "cell_type": "code",
   "execution_count": 87,
   "metadata": {},
   "outputs": [
    {
     "name": "stdout",
     "output_type": "stream",
     "text": [
      "Le tableau contient des valeurs différentes de zéro.\n"
     ]
    }
   ],
   "source": [
    "X_array = X.toarray()\n",
    "if np.all(X_array == 0):\n",
    "    print(\"Le tableau contient uniquement des zéros.\")\n",
    "else:\n",
    "    print(\"Le tableau contient des valeurs différentes de zéro.\")"
   ]
  },
  {
   "attachments": {},
   "cell_type": "markdown",
   "metadata": {},
   "source": [
    "### TF-IDF"
   ]
  },
  {
   "cell_type": "code",
   "execution_count": 88,
   "metadata": {},
   "outputs": [
    {
     "name": "stdout",
     "output_type": "stream",
     "text": [
      "['000' '12' '1997' ... 'zum' 'zumba' 'zzap']\n",
      "[[0. 0. 0. ... 0. 0. 0.]\n",
      " [0. 0. 0. ... 0. 0. 0.]\n",
      " [0. 0. 0. ... 0. 0. 0.]\n",
      " ...\n",
      " [0. 0. 0. ... 0. 0. 0.]\n",
      " [0. 0. 0. ... 0. 0. 0.]\n",
      " [0. 0. 0. ... 0. 0. 0.]]\n"
     ]
    }
   ],
   "source": [
    "vectorizer = TfidfVectorizer()\n",
    "X = vectorizer.fit_transform(corpus)\n",
    "print(vectorizer.get_feature_names_out())\n",
    "print(X.toarray())"
   ]
  },
  {
   "attachments": {},
   "cell_type": "markdown",
   "metadata": {},
   "source": [
    "### Modélisation (preprocess TF-IDF)"
   ]
  },
  {
   "cell_type": "code",
   "execution_count": null,
   "metadata": {},
   "outputs": [],
   "source": [
    "y = df['Emotion'].values\n",
    "\n",
    "# Encode labels\n",
    "le = LabelEncoder()\n",
    "y = le.fit_transform(y)\n",
    "\n",
    "X_train, X_test, y_train, y_test = train_test_split(X, y, test_size=0.2)"
   ]
  },
  {
   "cell_type": "code",
   "execution_count": 109,
   "metadata": {},
   "outputs": [
    {
     "name": "stdout",
     "output_type": "stream",
     "text": [
      "Accuracy: 0.87\n"
     ]
    }
   ],
   "source": [
    "svc = LinearSVC()\n",
    "svc.fit(X_train, y_train)\n",
    "\n",
    "y_pred = svc.predict(X_test)\n",
    "accuracy = accuracy_score(y_test, y_pred)\n",
    "print(f\"Accuracy: {accuracy:.2f}\")"
   ]
  },
  {
   "cell_type": "code",
   "execution_count": 115,
   "metadata": {},
   "outputs": [
    {
     "name": "stdout",
     "output_type": "stream",
     "text": [
      "Accuracy: 0.84\n"
     ]
    }
   ],
   "source": [
    "logreg = LogisticRegression()\n",
    "logreg.fit(X_train, y_train)\n",
    "\n",
    "y_pred = logreg.predict(X_test)\n",
    "accuracy = accuracy_score(y_test, y_pred)\n",
    "print(f\"Accuracy: {accuracy:.2f}\")"
   ]
  },
  {
   "cell_type": "code",
   "execution_count": 111,
   "metadata": {},
   "outputs": [
    {
     "name": "stdout",
     "output_type": "stream",
     "text": [
      "Accuracy: 0.67\n"
     ]
    }
   ],
   "source": [
    "bnb = BernoulliNB()\n",
    "bnb.fit(X_train, y_train)\n",
    "\n",
    "y_pred = logreg.predict(X_test)\n",
    "accuracy = accuracy_score(y_test, y_pred)\n",
    "print(f\"Accuracy: {accuracy:.2f}\")"
   ]
  },
  {
   "attachments": {},
   "cell_type": "markdown",
   "metadata": {},
   "source": [
    "## Test du modèle"
   ]
  },
  {
   "attachments": {},
   "cell_type": "markdown",
   "metadata": {},
   "source": [
    "On utilise le modèle Linear SVC qui obtient la meilleur score de précision."
   ]
  },
  {
   "cell_type": "code",
   "execution_count": 113,
   "metadata": {},
   "outputs": [
    {
     "name": "stdout",
     "output_type": "stream",
     "text": [
      "Emotion: sadness\n"
     ]
    }
   ],
   "source": [
    "def predict_emotion(text, model, vectorizer, le):\n",
    "    text = preprocess(text)\n",
    "    X = vectorizer.transform([text])\n",
    "    y_pred = model.predict(X)\n",
    "    emotion = le.inverse_transform(y_pred)[0]\n",
    "    return emotion\n",
    "\n",
    "text = \" Hello I am in tears\"\n",
    "emotion = predict_emotion(text, svc, vectorizer, le)\n",
    "print(f\"Emotion: {emotion}\")\n"
   ]
  }
 ],
 "metadata": {
  "kernelspec": {
   "display_name": "base",
   "language": "python",
   "name": "python3"
  },
  "language_info": {
   "codemirror_mode": {
    "name": "ipython",
    "version": 3
   },
   "file_extension": ".py",
   "mimetype": "text/x-python",
   "name": "python",
   "nbconvert_exporter": "python",
   "pygments_lexer": "ipython3",
   "version": "3.10.8"
  },
  "orig_nbformat": 4
 },
 "nbformat": 4,
 "nbformat_minor": 2
}
